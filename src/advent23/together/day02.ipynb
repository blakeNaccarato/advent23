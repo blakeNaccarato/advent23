{
 "cells": [
  {
   "cell_type": "markdown",
   "metadata": {},
   "source": [
    "# Day 2: Cube Conundrum\n",
    "\n",
    "## Part 1\n",
    "\n",
    "> <p>You're launched high into the atmosphere! The apex of your trajectory just barely reaches the surface of a large island floating in the sky. You gently land in a fluffy pile of leaves. It's quite cold, but you don't see much snow. An Elf runs over to greet you.</p>\n",
    "> <p>The Elf explains that you've arrived at <em>Snow Island</em> and apologizes for the lack of snow. He'll be happy to explain the situation, but it's a bit of a walk, so you have some time. They don't get many visitors up here; <span title=\"No, the Elf's name is not 'WOPR'. It's Joshua.\">would you like to play a game</span> in the meantime?</p>\n",
    "> <p>As you walk, the Elf shows you a small bag and some cubes which are either red, green, or blue. Each time you play this game, he will hide a secret number of cubes of each color in the bag, and your goal is to figure out information about the number of cubes.</p>\n",
    "> <p>To get information, once a bag has been loaded with cubes, the Elf will reach into the bag, grab a handful of random cubes, show them to you, and then put them back in the bag. He'll do this a few times per game.</p>\n",
    "> <p>You play several games and record the information from each game (your puzzle input). Each game is listed with its ID number (like the <code>11</code> in <code>Game 11: ...</code>) followed by a semicolon-separated list of subsets of cubes that were revealed from the bag (like <code>3 red, 5 green, 4 blue</code>).</p>\n",
    "> <p>For example, the record of a few games might look like this:</p>\n",
    "> <pre><code>Game 1: 3 blue, 4 red; 1 red, 2 green, 6 blue; 2 green\n",
    "> Game 2: 1 blue, 2 green; 3 green, 4 blue, 1 red; 1 green, 1 blue\n",
    "> Game 3: 8 green, 6 blue, 20 red; 5 blue, 4 red, 13 green; 5 green, 1 red\n",
    "> Game 4: 1 green, 3 red, 6 blue; 3 green, 6 red; 3 green, 15 blue, 14 red\n",
    "> Game 5: 6 red, 1 blue, 3 green; 2 blue, 1 red, 2 green\n",
    "> </code></pre>\n",
    "> <p>In game 1, three sets of cubes are revealed from the bag (and then put back again). The first set is 3 blue cubes and 4 red cubes; the second set is 1 red cube, 2 green cubes, and 6 blue cubes; the third set is only 2 green cubes.</p>\n",
    "> <p>The Elf would first like to know which games would have been possible if the bag contained <em>only 12 red cubes, 13 green cubes, and 14 blue cubes</em>?\n"
   ]
  },
  {
   "cell_type": "code",
   "execution_count": null,
   "metadata": {
    "tags": [
     "parameters"
    ]
   },
   "outputs": [],
   "source": [
    "from dataclasses import asdict, dataclass  # noqa: F401\n",
    "from functools import reduce  # noqa: F401\n",
    "from operator import mul  # noqa: F401\n",
    "\n",
    "from advent23 import get_chk, get_inp\n",
    "from advent23.stringer import Stringer, StringerChecker, g, remap  # noqa: F401\n",
    "\n",
    "# TODO: Consider implementing your solution using only the imports above. Once you've\n",
    "# TODO: used them (or not) remove the `noqa` statements so Ruff will clean up after you.\n",
    "\n",
    "BAG = \"Bag: 12 red, 13 green, 14 blue\"\n",
    "\n",
    "chk = get_chk()\n",
    "inp = get_inp(2)\n",
    "\n",
    "check = StringerChecker(chk)\n",
    "\n",
    "\n",
    "@dataclass\n",
    "class CubeGroup:\n",
    "    red: int = 0\n",
    "    green: int = 0\n",
    "    blue: int = 0\n",
    "\n",
    "    # TODO: Implement additional methods here as needed to help solve the puzzle"
   ]
  },
  {
   "cell_type": "code",
   "execution_count": null,
   "metadata": {},
   "outputs": [],
   "source": [
    "stringer = check(\n",
    "    Stringer(),\n",
    "    {\n",
    "        \"all_games\": lambda p: [match.group() for match in p.finditer(inp[\"a\"])],\n",
    "        \"first_game\": lambda p: m.group() if (m := p.match(inp[\"a\"])) else None,\n",
    "    },\n",
    ")\n",
    "CHECK_ALSO = [\"all_games\", \"first_game\"]"
   ]
  },
  {
   "cell_type": "code",
   "execution_count": null,
   "metadata": {},
   "outputs": [],
   "source": [
    "stringer = check(\n",
    "    stringer | dict(),\n",
    "    {\"game_1_sets\": lambda p: m[\"sets\"] if (m := p.match(inp[\"a\"])) else None},\n",
    ")\n",
    "CHECK_ALSO = \"game_1_sets\""
   ]
  },
  {
   "cell_type": "code",
   "execution_count": null,
   "metadata": {},
   "outputs": [],
   "source": [
    "stringer = check(\n",
    "    stringer | dict(),\n",
    "    {\"game_1_num\": lambda p: m[\"game_num\"] if (m := p.match(inp[\"a\"])) else None},\n",
    ")\n",
    "CHECK_ALSO = \"game_1_num\""
   ]
  },
  {
   "cell_type": "code",
   "execution_count": null,
   "metadata": {},
   "outputs": [],
   "source": [
    "chk[\"games\"] = {\n",
    "    1: [[\"3 blue\", \"4 red\"], [\"1 red\", \"2 green\", \"6 blue\"], [\"2 green\"]],\n",
    "    2: [[\"1 blue\", \"2 green\"], [\"3 green\", \"4 blue\", \"1 red\"], [\"1 green\", \"1 blue\"]],\n",
    "    3: [\n",
    "        [\"8 green\", \"6 blue\", \"20 red\"],\n",
    "        [\"5 blue\", \"4 red\", \"13 green\"],\n",
    "        [\"5 green\", \"1 red\"],\n",
    "    ],\n",
    "    4: [\n",
    "        [\"1 green\", \"3 red\", \"6 blue\"],\n",
    "        [\"3 green\", \"6 red\"],\n",
    "        [\"3 green\", \"15 blue\", \"14 red\"],\n",
    "    ],\n",
    "    5: [[\"6 red\", \"1 blue\", \"3 green\"], [\"2 blue\", \"1 red\", \"2 green\"]],\n",
    "}"
   ]
  },
  {
   "cell_type": "code",
   "execution_count": null,
   "metadata": {},
   "outputs": [],
   "source": [
    "chk[\"bag\"] = [12, 13, 14]\n",
    "chk[\"possible\"] = [1, 2, 5]\n",
    "chk[\"a\"] = 8"
   ]
  },
  {
   "cell_type": "markdown",
   "metadata": {},
   "source": [
    "> <p>In the example above, games 1, 2, and 5 would have been <em>possible</em> if the bag had been loaded with that configuration. However, game 3 would have been <em>impossible</em> because at one point the Elf showed you 20 red cubes at once; similarly, game 4 would also have been <em>impossible</em> because the Elf showed you 15 blue cubes at once.\n",
    "> If you add up the IDs of the games that would have been possible, you get <code><em>8</em></code>.</p>\n",
    "> <p>Determine which games would have been possible if the bag had been loaded with only 12 red cubes, 13 green cubes, and 14 blue cubes. <em>What is the sum of the IDs of those games?</em></p>\n",
    "> </article>\n",
    "\n",
    "## Part 2\n",
    "\n",
    "> <p>The Elf says they've stopped producing snow because they aren't getting any <em>water</em>! He isn't sure why the water stopped; however, he can show you how to get to the water source to check it out for yourself. It's just up ahead!</p>\n",
    "> <p>As you continue your walk, the Elf poses a second question: in each game you played, what is the <em>fewest number of cubes of each color</em> that could have been in the bag to make the game possible?</p>\n",
    "> <p>Again consider the example games from earlier.</p>\n"
   ]
  },
  {
   "cell_type": "code",
   "execution_count": null,
   "metadata": {},
   "outputs": [],
   "source": [
    "chk[\"game_one_fewest\"] = [4, 2, 6]\n",
    "chk[\"game_two_fewest\"] = [1, 3, 4]\n",
    "chk[\"game_three_fewest\"] = [20, 13, 6]\n",
    "chk[\"game_four_fewest\"] = [14, 3, 15]\n",
    "chk[\"game_five_fewest\"] = [6, 3, 2]"
   ]
  },
  {
   "cell_type": "markdown",
   "metadata": {},
   "source": [
    "> In game 1, the game could have been played with as few as 4 red, 2 green, and 6 blue cubes. If any color had even one fewer cube, the game would have been impossible.</li>\n",
    ">\n",
    "> <pre><code>Game 1: 3 blue, 4 red; 1 red, 2 green, 6 blue; 2 green</code></pre>\n",
    ">\n",
    "> Game 2 could have been played with a minimum of 1 red, 3 green, and 4 blue cubes.</li>\n",
    ">\n",
    "> <pre><code>Game 2: 1 blue, 2 green; 3 green, 4 blue, 1 red; 1 green, 1 blue</code></pre>\n",
    ">\n",
    "> Game 3 must have been played with at least 20 red, 13 green, and 6 blue cubes.</li>\n",
    ">\n",
    "> <pre><code>Game 3: 8 green, 6 blue, 20 red; 5 blue, 4 red, 13 green; 5 green, 1 red</code></pre>\n",
    ">\n",
    "> Game 4 required at least 14 red, 3 green, and 15 blue cubes.</li>\n",
    ">\n",
    "> <pre><code>Game 4: 1 green, 3 red, 6 blue; 3 green, 6 red; 3 green, 15 blue, 14 red</code></pre>\n",
    ">\n",
    "> Game 5 needed no fewer than 6 red, 3 green, and 2 blue cubes in the bag.</li>\n",
    ">\n",
    "> </ul>\n",
    "> <pre><code>Game 5: 6 red, 1 blue, 3 green; 2 blue, 1 red, 2 green</code></pre>\n",
    "> <p>The <em>power</em> of a set of cubes is equal to the numbers of red, green, and blue cubes multiplied together.\n"
   ]
  },
  {
   "cell_type": "code",
   "execution_count": null,
   "metadata": {},
   "outputs": [],
   "source": [
    "chk[\"minimum_power\"] = [48, 12, 1560, 630, 36]\n",
    "chk[\"b\"] = 2286"
   ]
  },
  {
   "cell_type": "markdown",
   "metadata": {},
   "source": [
    "> The power of the minimum set of cubes in game 1 is <code>48</code>. In games 2-5 it was <code>12</code>, <code>1560</code>, <code>630</code>, and <code>36</code>, respectively. Adding up these five powers produces the sum <code><em>2286</em></code>.</p>\n",
    ">\n",
    "> <p>For each game, find the minimum set of cubes that must have been present. <em>What is the sum of the power of these sets?</em></p>\n",
    "> </article>\n"
   ]
  }
 ],
 "metadata": {
  "kernelspec": {
   "display_name": ".venv",
   "language": "python",
   "name": "python3"
  },
  "language_info": {
   "codemirror_mode": {
    "name": "ipython",
    "version": 3
   },
   "file_extension": ".py",
   "mimetype": "text/x-python",
   "name": "python",
   "nbconvert_exporter": "python",
   "pygments_lexer": "ipython3"
  }
 },
 "nbformat": 4,
 "nbformat_minor": 2
}
