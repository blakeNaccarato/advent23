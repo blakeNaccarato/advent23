{
 "cells": [
  {
   "cell_type": "markdown",
   "metadata": {},
   "source": [
    "# Day 1\n"
   ]
  },
  {
   "cell_type": "markdown",
   "metadata": {},
   "source": [
    "## Part 1: Trebuchet?!\n",
    "\n",
    "Something is wrong with global snow production, and you've been selected to take a look. The Elves have even given you a map; on it, they've used stars to mark the top fifty locations that are likely to be having problems.\n",
    "\n",
    "You've been doing this long enough to know that to restore snow operations, you need to check all **fifty stars** by December 25th.\n",
    "\n",
    "Collect stars by solving puzzles. Two puzzles will be made available on each day in the Advent calendar; the second puzzle is unlocked when you complete the first. Each puzzle grants **one star**. Good luck!\n",
    "\n",
    "You try to ask why they can't just use a **weather machine** (\"not powerful enough\") and where they're even sending you (\"the sky\") and why your map looks mostly blank (\"you sure ask a lot of questions\") and hang on did you just say the sky (\"of course, where do you think snow comes from\") when you realize that the Elves are already loading you into a **trebuchet** (\"please hold still, we need to strap you in\").\n",
    "\n",
    "As they're making the final adjustments, they discover that their calibration document (your puzzle input) has been amended by a very young Elf who was apparently just excited to show off her art skills. Consequently, the Elves are having trouble reading the values on the document.\n",
    "\n",
    "The newly-improved calibration document consists of lines of text; each line originally contained a specific **calibration value** that the Elves now need to recover. On each line, the calibration value can be found by combining the **first digit** and the **last digit** (in that order) to form a single **two-digit number**.\n",
    "\n",
    "For example:\n",
    "\n",
    "```Plaintext\n",
    "1abc2\n",
    "pqr3stu8vwx\n",
    "a1b2c3d4e5f\n",
    "treb7uchet\n",
    "```\n",
    "\n",
    "In this example, the calibration values of these four lines are `12`, `38`, `15`, and `77`. Adding these together produces `142`.\n",
    "\n",
    "Consider your entire calibration document. **What is the sum of all of the calibration values?**\n"
   ]
  },
  {
   "cell_type": "code",
   "execution_count": null,
   "metadata": {
    "tags": [
     "parameters"
    ]
   },
   "outputs": [
    {
     "data": {
      "text/markdown": [
       "#### A"
      ],
      "text/plain": [
       "<IPython.core.display.Markdown object>"
      ]
     },
     "metadata": {},
     "output_type": "display_data"
    },
    {
     "name": "stdout",
     "output_type": "stream",
     "text": [
      "1abc2\n",
      "pqr3stu8vwx\n",
      "a1b2c3d4e5f\n",
      "treb7uchet\n",
      "\n"
     ]
    },
    {
     "data": {
      "text/markdown": [
       "#### B"
      ],
      "text/plain": [
       "<IPython.core.display.Markdown object>"
      ]
     },
     "metadata": {},
     "output_type": "display_data"
    },
    {
     "name": "stdout",
     "output_type": "stream",
     "text": [
      "two1nine\n",
      "eightwothree\n",
      "abcone2threexyz\n",
      "xtwone3four\n",
      "4nineeightseven2\n",
      "zoneight234\n",
      "7pqrstsixteen\n",
      "\n"
     ]
    }
   ],
   "source": [
    "import re\n",
    "\n",
    "import pandas as pd\n",
    "\n",
    "from advent23 import get_chk, get_inp\n",
    "\n",
    "chk = get_chk()\n",
    "inp = get_inp(1)"
   ]
  },
  {
   "cell_type": "code",
   "execution_count": null,
   "metadata": {},
   "outputs": [
    {
     "data": {
      "text/markdown": [
       "#### Answer A"
      ],
      "text/plain": [
       "<IPython.core.display.Markdown object>"
      ]
     },
     "metadata": {},
     "output_type": "display_data"
    },
    {
     "data": {
      "text/plain": [
       "142"
      ]
     },
     "metadata": {},
     "output_type": "display_data"
    }
   ],
   "source": [
    "ans_a = 0\n",
    "for line in inp[\"a\"].splitlines():\n",
    "    line_num_list = re.findall(\"[0-9]\", repr(line))\n",
    "    extracted_num = line_num_list[0] + line_num_list[-1]\n",
    "    ans_a += int(extracted_num)\n",
    "\n",
    "chk[\"ans_a\"] = ans_a"
   ]
  },
  {
   "cell_type": "markdown",
   "metadata": {},
   "source": [
    "<article class=\"day-desc\"><h2 id=\"part2\">Part 2</h2><p>Your calculation isn't quite right. It looks like some of the digits are actually <em>spelled out with letters</em>: <code>one</code>, <code>two</code>, <code>three</code>, <code>four</code>, <code>five</code>, <code>six</code>, <code>seven</code>, <code>eight</code>, and <code>nine</code> <em>also</em> count as valid \"digits\".</p>\n",
    "<p>Equipped with this new information, you now need to find the real first and last digit on each line. For example:</p>\n",
    "<pre><code>two1nine\n",
    "eightwothree\n",
    "abcone2threexyz\n",
    "xtwone3four\n",
    "4nineeightseven2\n",
    "zoneight234\n",
    "7pqrstsixteen\n",
    "</code></pre>\n",
    "<p>In this example, the calibration values are <code>29</code>, <code>83</code>, <code>13</code>, <code>24</code>, <code>42</code>, <code>14</code>, and <code>76</code>. Adding these together produces <code><em>281</em></code>.</p>\n",
    "<p><em>What is the sum of all of the calibration values?</em></p>\n"
   ]
  },
  {
   "cell_type": "code",
   "execution_count": null,
   "metadata": {},
   "outputs": [
    {
     "name": "stdout",
     "output_type": "stream",
     "text": [
      "2wo19ine29\n",
      "\n",
      "8igh2wo3hree83\n",
      "\n",
      "abc1ne23hreexyz13\n",
      "\n",
      "x2w1ne34our24\n",
      "\n",
      "49ine8ight7even242\n",
      "\n",
      "z1n8ight23414\n",
      "\n",
      "7pqrst6ixteen76\n",
      "\n"
     ]
    },
    {
     "data": {
      "text/markdown": [
       "#### Answer B"
      ],
      "text/plain": [
       "<IPython.core.display.Markdown object>"
      ]
     },
     "metadata": {},
     "output_type": "display_data"
    },
    {
     "data": {
      "text/plain": [
       "281"
      ]
     },
     "metadata": {},
     "output_type": "display_data"
    }
   ],
   "source": [
    "# Find positions where sub-strings exist and replace based off of position value\n",
    "\n",
    "number_map = {\n",
    "    \"zero\": \"0xxx\",\n",
    "    \"one\": \"1xx\",\n",
    "    \"two\": \"2xx\",\n",
    "    \"three\": \"3xxxx\",\n",
    "    \"four\": \"4xxx\",\n",
    "    \"five\": \"5xxx\",\n",
    "    \"six\": \"6xx\",\n",
    "    \"seven\": \"7xxxx\",\n",
    "    \"eight\": \"8xxxx\",\n",
    "    \"nine\": \"9xxx\",\n",
    "}\n",
    "\n",
    "\n",
    "ans_b = 0\n",
    "for line in inp[\"b\"].splitlines():\n",
    "    df = pd.DataFrame(columns=list(range(len(line))))\n",
    "    for key in number_map:\n",
    "        unpacked_line = [*line.replace(key, str(number_map[key]))]\n",
    "        df.loc[len(df.index)] = pd.Series(unpacked_line)\n",
    "\n",
    "    mapped_string = \"\"\n",
    "    for column in df.columns:\n",
    "        mapped_string += df.sort_values(by=column, ascending=True).iloc[0, column]  # type: ignore\n",
    "\n",
    "    # Implement old part01 logic after words converted to digits\n",
    "    line_num_list = re.findall(\"[0-9]\", repr(mapped_string))\n",
    "    extracted_num = line_num_list[0] + line_num_list[-1]\n",
    "    print(f\"{mapped_string}{extracted_num}\\n\")\n",
    "    ans_b += int(extracted_num)\n",
    "\n",
    "chk[\"ans_b\"] = ans_b"
   ]
  }
 ],
 "metadata": {
  "kernelspec": {
   "display_name": ".venv",
   "language": "python",
   "name": "python3"
  },
  "language_info": {
   "codemirror_mode": {
    "name": "ipython",
    "version": 3
   },
   "file_extension": ".py",
   "mimetype": "text/x-python",
   "name": "python",
   "nbconvert_exporter": "python",
   "pygments_lexer": "ipython3"
  }
 },
 "nbformat": 4,
 "nbformat_minor": 2
}
