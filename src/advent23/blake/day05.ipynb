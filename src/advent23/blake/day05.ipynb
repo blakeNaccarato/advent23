{
 "cells": [
  {
   "cell_type": "markdown",
   "metadata": {},
   "source": [
    "# Day 5: If You Give A Seed A Fertilizer\n",
    "\n",
    "## Part 1\n",
    "\n",
    "> <p>You take the boat and find the gardener right where you were told he would be: managing a giant \"garden\" that looks more to you like a farm.</p>\n",
    "> <p>\"A water source? Island Island <em>is</em> the water source!\" You point out that Snow Island isn't receiving any water.</p>\n",
    "> <p>\"Oh, we had to stop the water because we <em>ran out of sand</em> to <a href=\"https://en.wikipedia.org/wiki/Sand_filter\" target=\"_blank\">filter</a> it with! Can't make snow with dirty water. Don't worry, I'm sure we'll get more sand soon; we only turned off the water a few days... weeks... oh no.\" His face sinks into a look of horrified realization.</p>\n",
    "> <p>\"I've been so busy making sure everyone here has food that I completely forgot to check why we stopped getting more sand! There's a ferry leaving soon that is headed over in that direction - it's much faster than your boat. Could you please go check it out?\"</p>\n",
    "> <p>You barely have time to agree to this request when he brings up another. \"While you wait for the ferry, maybe you can help us with our <em>food production problem</em>. The latest Island Island <a href=\"https://en.wikipedia.org/wiki/Almanac\" target=\"_blank\">Almanac</a> just arrived and we're having trouble making sense of it.\"</p>\n",
    "> <p>The almanac (your puzzle input) lists all of the seeds that need to be planted. It also lists what type of soil to use with each kind of seed, what type of fertilizer to use with each kind of soil, what type of water to use with each kind of fertilizer, and so on. Every type of seed, soil, fertilizer and so on is identified with a number, but numbers are reused by each category - that is, soil <code>123</code> and fertilizer <code>123</code> aren't necessarily related to each other.</p>\n",
    "> <p>For example:</p>\n",
    ">\n",
    "> ```\n",
    "> seeds: 79 14 55 13\n",
    ">\n",
    "> seed-to-soil map:\n",
    "> 50 98 2\n",
    "> 52 50 48\n",
    ">\n",
    "> soil-to-fertilizer map:\n",
    "> 0 15 37\n",
    "> 37 52 2\n",
    "> 39 0 15\n",
    ">\n",
    "> fertilizer-to-water map:\n",
    "> 49 53 8\n",
    "> 0 11 42\n",
    "> 42 0 7\n",
    "> 57 7 4\n",
    ">\n",
    "> water-to-light map:\n",
    "> 88 18 7\n",
    "> 18 25 70\n",
    ">\n",
    "> light-to-temperature map:\n",
    "> 45 77 23\n",
    "> 81 45 19\n",
    "> 68 64 13\n",
    ">\n",
    "> temperature-to-humidity map:\n",
    "> 0 69 1\n",
    "> 1 0 69\n",
    ">\n",
    "> humidity-to-location map:\n",
    "> 60 56 37\n",
    "> 56 93 4\n",
    "> ```\n",
    ">\n",
    "> <p>The almanac starts by listing which seeds need to be planted: seeds <code>79</code>, <code>14</code>, <code>55</code>, and <code>13</code>.</p>\n",
    "> <p>The rest of the almanac contains a list of <em>maps</em> which describe how to convert numbers from a <em>source category</em> into numbers in a <em>destination category</em>. That is, the section that starts with <code>seed-to-soil map:</code> describes how to convert a <em>seed number</em> (the source) to a <em>soil number</em> (the destination). This lets the gardener and his team know which soil to use with which seeds, which water to use with which fertilizer, and so on.</p>\n",
    "> <p>Rather than list every source number and its corresponding destination number one by one, the maps describe entire <em>ranges</em> of numbers that can be converted. Each line within a map contains <span title=\"Don't blame me for the weird order. Blame LXC container.conf UID mappings.\">three numbers</span>: the <em>destination range start</em>, the <em>source range start</em>, and the <em>range length</em>.</p>\n",
    "> <p>Consider again the example <code>seed-to-soil map</code>:</p>\n",
    "> <pre><code>50 98 2\n",
    "> 52 50 48\n",
    "> </code></pre>\n",
    "> <p>The first line has a <em>destination range start</em> of <code>50</code>, a <em>source range start</em> of <code>98</code>, and a <em>range length</em> of <code>2</code>. This line means that the source range starts at <code>98</code> and contains two values: <code>98</code> and <code>99</code>. The destination range is the same length, but it starts at <code>50</code>, so its two values are <code>50</code> and <code>51</code>. With this information, you know that seed number <code>98</code> corresponds to soil number <code>50</code> and that seed number <code>99</code> corresponds to soil number <code>51</code>.</p>\n",
    "> <p>The second line means that the source range starts at <code>50</code> and contains <code>48</code> values: <code>50</code>, <code>51</code>, ..., <code>96</code>, <code>97</code>. This corresponds to a destination range starting at <code>52</code> and also containing <code>48</code> values: <code>52</code>, <code>53</code>, ..., <code>98</code>, <code>99</code>. So, seed number <code>53</code> corresponds to soil number <code>55</code>.</p>\n",
    "> <p>Any source numbers that <em>aren't mapped</em> correspond to the <em>same</em> destination number. So, seed number <code>10</code> corresponds to soil number <code>10</code>.</p>\n",
    "> <p>So, the entire list of seed numbers and their corresponding soil numbers looks like this:</p>\n",
    "> <pre><code>seed  soil\n",
    "> 0     0\n",
    "> 1     1\n",
    "> ...   ...\n",
    "> 48    48\n",
    "> 49    49\n",
    "> 50    52\n",
    "> 51    53\n",
    "> ...   ...\n",
    "> 96    98\n",
    "> 97    99\n",
    "> 98    50\n",
    "> 99    51\n",
    "> </code></pre>\n",
    "> <p>With this map, you can look up the soil number required for each initial seed number:</p>\n",
    "> <ul>\n",
    "> <li>Seed number <code>79</code> corresponds to soil number <code>81</code>.</li>\n",
    "> <li>Seed number <code>14</code> corresponds to soil number <code>14</code>.</li>\n",
    "> <li>Seed number <code>55</code> corresponds to soil number <code>57</code>.</li>\n",
    "> <li>Seed number <code>13</code> corresponds to soil number <code>13</code>.</li>\n",
    "> </ul>\n",
    "> <p>The gardener and his team want to get started as soon as possible, so they'd like to know the closest location that needs a seed. Using these maps, find <em>the lowest location number that corresponds to any of the initial seeds</em>. To do this, you'll need to convert each seed number through other categories until you can find its corresponding <em>location number</em>. In this example, the corresponding types are:</p>\n",
    "> <ul>\n",
    "> <li>Seed <code>79</code>, soil <code>81</code>, fertilizer <code>81</code>, water <code>81</code>, light <code>74</code>, temperature <code>78</code>, humidity <code>78</code>, <em>location <code>82</code></em>.</li>\n",
    "> <li>Seed <code>14</code>, soil <code>14</code>, fertilizer <code>53</code>, water <code>49</code>, light <code>42</code>, temperature <code>42</code>, humidity <code>43</code>, <em>location <code>43</code></em>.</li>\n",
    "> <li>Seed <code>55</code>, soil <code>57</code>, fertilizer <code>57</code>, water <code>53</code>, light <code>46</code>, temperature <code>82</code>, humidity <code>82</code>, <em>location <code>86</code></em>.</li>\n",
    "> <li>Seed <code>13</code>, soil <code>13</code>, fertilizer <code>52</code>, water <code>41</code>, light <code>34</code>, temperature <code>34</code>, humidity <code>35</code>, <em>location <code>35</code></em>.</li>\n",
    "> </ul>\n",
    "> <p>So, the lowest location number in this example is <code><em>35</em></code>.</p>\n",
    "> <p><em>What is the lowest location number that corresponds to any of the initial seed numbers?</em></p>\n"
   ]
  },
  {
   "cell_type": "code",
   "execution_count": null,
   "metadata": {},
   "outputs": [
    {
     "data": {
      "text/markdown": [
       "#### Part 1"
      ],
      "text/plain": [
       "<IPython.core.display.Markdown object>"
      ]
     },
     "metadata": {},
     "output_type": "display_data"
    },
    {
     "name": "stdout",
     "output_type": "stream",
     "text": [
      "seeds: 79 14 55 13\n",
      "\n",
      "seed-to-soil map:\n",
      "50 98 2\n",
      "52 50 48\n",
      "\n",
      "soil-to-fertilizer map:\n",
      "0 15 37\n",
      "37 52 2\n",
      "39 0 15\n",
      "\n",
      "fertilizer-to-water map:\n",
      "49 53 8\n",
      "0 11 42\n",
      "42 0 7\n",
      "... <view truncated> ...\n"
     ]
    },
    {
     "data": {
      "text/markdown": [
       "#### Part 2"
      ],
      "text/plain": [
       "<IPython.core.display.Markdown object>"
      ]
     },
     "metadata": {},
     "output_type": "display_data"
    },
    {
     "name": "stdout",
     "output_type": "stream",
     "text": [
      "<same as part 1>\n"
     ]
    }
   ],
   "source": [
    "from advent23 import get_chk, get_inp\n",
    "from advent23.stringers import Stringer, StringerChecker, group\n",
    "\n",
    "inp = get_inp(5)"
   ]
  },
  {
   "cell_type": "code",
   "execution_count": null,
   "metadata": {},
   "outputs": [],
   "source": [
    "def match(s: Stringer, inp: str = inp[\"a\"]):\n",
    "    if not (fullmatch := s.compile().fullmatch(inp)):\n",
    "        raise ValueError(\"No match\")\n",
    "    return fullmatch"
   ]
  },
  {
   "cell_type": "code",
   "execution_count": null,
   "metadata": {},
   "outputs": [
    {
     "data": {
      "text/markdown": [
       "#### Stringer"
      ],
      "text/plain": [
       "<IPython.core.display.Markdown object>"
      ]
     },
     "metadata": {},
     "output_type": "display_data"
    },
    {
     "data": {
      "text/plain": [
       "Stringer(root='^$pat+$$', any='(?:.|\\\\n)', pat='$any')"
      ]
     },
     "metadata": {},
     "output_type": "display_data"
    },
    {
     "data": {
      "text/markdown": [
       "#### Pattern"
      ],
      "text/plain": [
       "<IPython.core.display.Markdown object>"
      ]
     },
     "metadata": {},
     "output_type": "display_data"
    },
    {
     "data": {
      "text/plain": [
       "re.compile(r'^(?:.|\\n)+$', re.UNICODE)"
      ]
     },
     "metadata": {},
     "output_type": "display_data"
    },
    {
     "data": {
      "text/markdown": [
       "#### Matched"
      ],
      "text/plain": [
       "<IPython.core.display.Markdown object>"
      ]
     },
     "metadata": {},
     "output_type": "display_data"
    },
    {
     "data": {
      "text/plain": [
       "True"
      ]
     },
     "metadata": {},
     "output_type": "display_data"
    }
   ],
   "source": [
    "check = StringerChecker(chk := get_chk())\n",
    "checks = check.checks\n",
    "prompt = check(\n",
    "    Stringer(r\"^$pat+$$\", pat=r\"$any\"), **dict(matched=lambda s: bool(match(s)))\n",
    ")"
   ]
  },
  {
   "cell_type": "code",
   "execution_count": null,
   "metadata": {},
   "outputs": [
    {
     "data": {
      "text/markdown": [
       "#### Stringer"
      ],
      "text/plain": [
       "<IPython.core.display.Markdown object>"
      ]
     },
     "metadata": {},
     "output_type": "display_data"
    },
    {
     "data": {
      "text/plain": [
       "Stringer(root='^$pat+$$', any='(?:.|\\\\n)', pat='seeds: $seeds$sep$any+',\n",
       "    seeds=Stringer(root='(?P<$name>$pat)', any='(?:.|\\\\n)', pat='[\\\\d\\\\s]+',\n",
       "    name='seeds'), sep='\\\\n\\\\n')"
      ]
     },
     "metadata": {},
     "output_type": "display_data"
    },
    {
     "data": {
      "text/markdown": [
       "#### Pattern"
      ],
      "text/plain": [
       "<IPython.core.display.Markdown object>"
      ]
     },
     "metadata": {},
     "output_type": "display_data"
    },
    {
     "data": {
      "text/plain": [
       "re.compile(r'^seeds: (?P<seeds>[\\d\\s]+)\\n\\n(?:.|\\n)++$', re.UNICODE)"
      ]
     },
     "metadata": {},
     "output_type": "display_data"
    },
    {
     "data": {
      "text/markdown": [
       "#### Seeds"
      ],
      "text/plain": [
       "<IPython.core.display.Markdown object>"
      ]
     },
     "metadata": {},
     "output_type": "display_data"
    },
    {
     "data": {
      "text/plain": [
       "[79, 14, 55, 13]"
      ]
     },
     "metadata": {},
     "output_type": "display_data"
    }
   ],
   "source": [
    "prompt = check(\n",
    "    prompt\n",
    "    | dict(pat=r\"seeds: $seeds$sep$any+\", **group(r\"[\\d\\s]+\", \"seeds\"), sep=r\"\\n\\n\"),\n",
    "    **dict(seeds=lambda s: [int(seed) for seed in match(s)[\"seeds\"].split()]),\n",
    ")\n",
    "seeds = chk[\"seeds\"]\n",
    "CHECK_ALSO = \"seeds\""
   ]
  },
  {
   "cell_type": "code",
   "execution_count": null,
   "metadata": {},
   "outputs": [
    {
     "data": {
      "text/markdown": [
       "#### Stringer"
      ],
      "text/plain": [
       "<IPython.core.display.Markdown object>"
      ]
     },
     "metadata": {},
     "output_type": "display_data"
    },
    {
     "data": {
      "text/plain": [
       "Stringer(root='^$pat+$$', any='(?:.|\\\\n)', pat='seeds: $seeds$sep$rules',\n",
       "    seeds=Stringer(root='(?P<$name>$pat)', any='(?:.|\\\\n)', pat='[\\\\d\\\\s]+',\n",
       "    name='seeds'), sep='\\\\n\\\\n', rules=Stringer(root='(?P<$name>$pat)', any='(?:.|\\\\n)',\n",
       "    pat='$any+', name='rules'))"
      ]
     },
     "metadata": {},
     "output_type": "display_data"
    },
    {
     "data": {
      "text/markdown": [
       "#### Pattern"
      ],
      "text/plain": [
       "<IPython.core.display.Markdown object>"
      ]
     },
     "metadata": {},
     "output_type": "display_data"
    },
    {
     "data": {
      "text/plain": [
       "re.compile(r'^seeds: (?P<seeds>[\\d\\s]+)\\n\\n(?P<rules>(?:.|\\n)+)+$', re.UNICODE)"
      ]
     },
     "metadata": {},
     "output_type": "display_data"
    },
    {
     "data": {
      "text/markdown": [
       "#### Check rules"
      ],
      "text/plain": [
       "<IPython.core.display.Markdown object>"
      ]
     },
     "metadata": {},
     "output_type": "display_data"
    },
    {
     "data": {
      "text/plain": [
       "True"
      ]
     },
     "metadata": {},
     "output_type": "display_data"
    }
   ],
   "source": [
    "prompt = check(\n",
    "    prompt | dict(pat=r\"seeds: $seeds$sep$rules\", **group(r\"$any+\", \"rules\")),\n",
    "    **dict(\n",
    "        check_rules=lambda s: (\n",
    "            (all_rules := match(s)[\"rules\"]).startswith(\"seed-to-soil map\")\n",
    "            and all_rules.endswith(\"56 93 4\\n\")\n",
    "        )\n",
    "    ),\n",
    ")\n",
    "rules_inp = match(prompt)[\"rules\"]"
   ]
  },
  {
   "cell_type": "code",
   "execution_count": null,
   "metadata": {},
   "outputs": [
    {
     "data": {
      "text/markdown": [
       "#### Stringer"
      ],
      "text/plain": [
       "<IPython.core.display.Markdown object>"
      ]
     },
     "metadata": {},
     "output_type": "display_data"
    },
    {
     "data": {
      "text/plain": [
       "Stringer(root='\\\\w+-to-\\\\w+ map:\\\\n$any+?$sep', any='(?:.|\\\\n)', sep='\\\\n\\\\n')"
      ]
     },
     "metadata": {},
     "output_type": "display_data"
    },
    {
     "data": {
      "text/markdown": [
       "#### Pattern"
      ],
      "text/plain": [
       "<IPython.core.display.Markdown object>"
      ]
     },
     "metadata": {},
     "output_type": "display_data"
    },
    {
     "data": {
      "text/plain": [
       "re.compile(r'\\w+-to-\\w+ map:\\n(?:.|\\n)+?\\n\\n', re.UNICODE)"
      ]
     },
     "metadata": {},
     "output_type": "display_data"
    },
    {
     "data": {
      "text/markdown": [
       "#### Check rules"
      ],
      "text/plain": [
       "<IPython.core.display.Markdown object>"
      ]
     },
     "metadata": {},
     "output_type": "display_data"
    },
    {
     "data": {
      "text/plain": [
       "True"
      ]
     },
     "metadata": {},
     "output_type": "display_data"
    }
   ],
   "source": [
    "check_rules = StringerChecker(chk)\n",
    "rules = check_rules(\n",
    "    Stringer(r\"\\w+-to-\\w+ map:\\n$any+?$sep\", sep=r\"\\n\\n\"),\n",
    "    **dict(\n",
    "        check_rules=lambda s: (\n",
    "            (first_rule := s.compile().search(rules_inp).group()).startswith(\n",
    "                \"seed-to-soil map\"\n",
    "            )\n",
    "            and first_rule.endswith(\"52 50 48\\n\\n\")\n",
    "        )\n",
    "    ),\n",
    ")"
   ]
  }
 ],
 "metadata": {
  "kernelspec": {
   "display_name": ".venv",
   "language": "python",
   "name": "python3"
  },
  "language_info": {
   "codemirror_mode": {
    "name": "ipython",
    "version": 3
   },
   "file_extension": ".py",
   "mimetype": "text/x-python",
   "name": "python",
   "nbconvert_exporter": "python",
   "pygments_lexer": "ipython3"
  }
 },
 "nbformat": 4,
 "nbformat_minor": 2
}
