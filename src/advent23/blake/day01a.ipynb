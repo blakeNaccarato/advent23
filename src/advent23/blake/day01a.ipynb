{
 "cells": [
  {
   "cell_type": "markdown",
   "metadata": {},
   "source": [
    "# Day 1: Trebuchet?!\n",
    "\n",
    "Here's the first puzzle:\n",
    "\n",
    "> <p>Something is wrong with global snow production, and you've been selected to take a look. The Elves have even given you a map; on it, they've used stars to mark the top fifty locations that are likely to be having problems.</p>\n",
    "> <p>You've been doing this long enough to know that to restore snow operations, you need to check all <em class=\"star\">fifty stars</em> by December 25th.</p>\n",
    "> <p>Collect stars by solving puzzles.  Two puzzles will be made available on each day in the Advent calendar; the second puzzle is unlocked when you complete the first.  Each puzzle grants <em class=\"star\">one star</em>. Good luck!</p>\n",
    "> <p>You try to ask why they can't just use a <a href=\"/2015/day/1\">weather machine</a> (\"not powerful enough\") and where they're even sending you (\"the sky\") and why your map looks mostly blank (\"you sure ask a lot of questions\") <span title=\"My hope is that this abomination of a run-on sentence somehow conveys the chaos of being hastily loaded into a trebuchet.\">and</span> hang on did you just say the sky (\"of course, where do you think snow comes from\") when you realize that the Elves are already loading you into a <a href=\"https://en.wikipedia.org/wiki/Trebuchet\" target=\"_blank\">trebuchet</a> (\"please hold still, we need to strap you in\").</p>\n",
    "> <p>As they're making the final adjustments, they discover that their calibration document (your puzzle input) has been <em>amended</em> by a very young Elf who was apparently just excited to show off her art skills. Consequently, the Elves are having trouble reading the values on the document.</p>\n",
    "> <p>The newly-improved calibration document consists of lines of text; each line originally contained a specific <em>calibration value</em> that the Elves now need to recover. On each line, the calibration value can be found by combining the <em>first digit</em> and the <em>last digit</em> (in that order) to form a single <em>two-digit number</em>.</p>\n",
    "> <p>For example:</p>\n",
    "> <pre><code>1abc2\n",
    "> pqr3stu8vwx\n",
    "> a1b2c3d4e5f\n",
    "> treb7uchet\n",
    "> </code></pre>\n",
    "\n",
    "Let's use regular expressions to solve it. Note that the first cell here contains our imports, and the cell is marked as \"parameters\" (that's a cell tag). This will allow us to inject different `INPUT` values in to test our notebook against different conditions. Your `OUTPUT` (your solution to the puzzle) should appear in a different cell than the `parameters`-tagged cell, in order for the parameter injection to work."
   ]
  },
  {
   "cell_type": "code",
   "execution_count": null,
   "metadata": {
    "tags": [
     "parameters"
    ]
   },
   "outputs": [],
   "source": [
    "from re import MULTILINE, VERBOSE, compile\n",
    "\n",
    "from advent23 import disp_name\n",
    "\n",
    "INPUT = \"\"\"\\\n",
    "1abc2\n",
    "pqr3stu8vwx\n",
    "a1b2c3d4e5f\n",
    "treb7uchet\n",
    "\"\"\""
   ]
  },
  {
   "cell_type": "markdown",
   "metadata": {},
   "source": [
    "## Find matches\n",
    "\n",
    "Refer to the \"RegEx Reference\" sidebar menu at [regexr](https://regexr.com). Compile a regex pattern for matching the first and last digits in a line."
   ]
  },
  {
   "cell_type": "code",
   "execution_count": null,
   "metadata": {},
   "outputs": [
    {
     "data": {
      "text/markdown": [
       "#### All matches:"
      ],
      "text/plain": [
       "<IPython.core.display.Markdown object>"
      ]
     },
     "metadata": {},
     "output_type": "display_data"
    },
    {
     "data": {
      "text/plain": [
       "[('1', '2'), ('3', '8'), ('1', '5'), ('7', '')]"
      ]
     },
     "metadata": {},
     "output_type": "display_data"
    }
   ],
   "source": [
    "pattern = compile(\n",
    "    # Verbose: ignore implicit whitespace and allow comments in the pattern below\n",
    "    # Multiline: ^ and $ match the start of a line rather than the end of the string\n",
    "    flags=VERBOSE | MULTILINE,\n",
    "    pattern=(\n",
    "        r\"\"\"\n",
    "        ^               # Start of line\n",
    "        [^\\d]*          # Zero or more non-digits\n",
    "        (?P<first>\\d)   # first digit\n",
    "        .*?             # Zero or more characters, lazily\n",
    "        (?P<last>\\d)?   # last digit, optional\n",
    "        [^\\d]*          # Match zero or more non-digits\n",
    "        $               # Match end of line\n",
    "        \"\"\"\n",
    "    ),\n",
    ")\n",
    "\n",
    "matches = pattern.findall(INPUT)\n",
    "disp_name(\"All matches:\", matches)"
   ]
  },
  {
   "cell_type": "markdown",
   "metadata": {},
   "source": [
    "## Handle matches\n",
    "\n",
    "The comprehension filters out non-matches."
   ]
  },
  {
   "cell_type": "code",
   "execution_count": null,
   "metadata": {},
   "outputs": [
    {
     "data": {
      "text/markdown": [
       "#### Calibration values:"
      ],
      "text/plain": [
       "<IPython.core.display.Markdown object>"
      ]
     },
     "metadata": {},
     "output_type": "display_data"
    },
    {
     "data": {
      "text/plain": [
       "[12, 38, 15, 77]"
      ]
     },
     "metadata": {},
     "output_type": "display_data"
    }
   ],
   "source": [
    "calibration_values = []\n",
    "for match in [m for m in matches if m]:\n",
    "    first, last = match\n",
    "    last = last if last else first\n",
    "    calibration_values.append(int(f\"{first}{last}\"))\n",
    "\n",
    "disp_name(\"Calibration values:\", calibration_values)"
   ]
  },
  {
   "cell_type": "markdown",
   "metadata": {},
   "source": [
    "> <p>In this example, the calibration values of these four lines are <code>12</code>, <code>38</code>, <code>15</code>, and <code>77</code>."
   ]
  },
  {
   "cell_type": "markdown",
   "metadata": {},
   "source": [
    "## Sum the calibration values"
   ]
  },
  {
   "cell_type": "code",
   "execution_count": null,
   "metadata": {},
   "outputs": [
    {
     "data": {
      "text/markdown": [
       "#### Sum:"
      ],
      "text/plain": [
       "<IPython.core.display.Markdown object>"
      ]
     },
     "metadata": {},
     "output_type": "display_data"
    },
    {
     "data": {
      "text/plain": [
       "142"
      ]
     },
     "metadata": {},
     "output_type": "display_data"
    }
   ],
   "source": [
    "OUTPUT = sum(calibration_values)\n",
    "disp_name(\"Sum:\", OUTPUT)"
   ]
  },
  {
   "cell_type": "markdown",
   "metadata": {},
   "source": [
    "> Adding these together produces <code><em>142</em></code>.</p>\n",
    "> <p>Consider your entire calibration document. <em>What is the sum of all of the calibration values?</em></p>\n",
    "> </article>"
   ]
  }
 ],
 "metadata": {
  "kernelspec": {
   "display_name": ".venv",
   "language": "python",
   "name": "python3"
  },
  "language_info": {
   "codemirror_mode": {
    "name": "ipython",
    "version": 3
   },
   "file_extension": ".py",
   "mimetype": "text/x-python",
   "name": "python",
   "nbconvert_exporter": "python",
   "pygments_lexer": "ipython3"
  }
 },
 "nbformat": 4,
 "nbformat_minor": 2
}
