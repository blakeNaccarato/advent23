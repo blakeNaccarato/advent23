{
 "cells": [
  {
   "cell_type": "markdown",
   "metadata": {},
   "source": [
    "# Day 1: Trebuchet?! Hello again\n",
    "\n",
    "## Part 1\n",
    "\n",
    "> <p>Something is wrong with global snow production, and you've been selected to take a look. The Elves have even given you a map; on it, they've used stars to mark the top fifty locations that are likely to be having problems.</p>\n",
    "> <p>You've been doing this long enough to know that to restore snow operations, you need to check all <em class=\"star\">fifty stars</em> by December 25th.</p>\n",
    "> <p>Collect stars by solving puzzles.  Two puzzles will be made available on each day in the Advent calendar; the second puzzle is unlocked when you complete the first.  Each puzzle grants <em class=\"star\">one star</em>. Good luck!</p>\n",
    "> <p>You try to ask why they can't just use a <a href=\"/2015/day/1\">weather machine</a> (\"not powerful enough\") and where they're even sending you (\"the sky\") and why your map looks mostly blank (\"you sure ask a lot of questions\") <span title=\"My hope is that this abomination of a run-on sentence somehow conveys the chaos of being hastily loaded into a trebuchet.\">and</span> hang on did you just say the sky (\"of course, where do you think snow comes from\") when you realize that the Elves are already loading you into a <a href=\"https://en.wikipedia.org/wiki/Trebuchet\" target=\"_blank\">trebuchet</a> (\"please hold still, we need to strap you in\").</p>\n",
    "> <p>As they're making the final adjustments, they discover that their calibration document (your puzzle input) has been <em>amended</em> by a very young Elf who was apparently just excited to show off her art skills. Consequently, the Elves are having trouble reading the values on the document.</p>\n",
    "> <p>The newly-improved calibration document consists of lines of text; each line originally contained a specific <em>calibration value</em> that the Elves now need to recover. On each line, the calibration value can be found by combining the <em>first digit</em> and the <em>last digit</em> (in that order) to form a single <em>two-digit number</em>.</p>\n",
    "> <p>For example:</p>\n",
    "> <pre><code>1abc2\n",
    "> pqr3stu8vwx\n",
    "> a1b2c3d4e5f\n",
    "> treb7uchet\n",
    "> </code></pre>\n",
    "\n",
    "Let's use regular expressions to solve it. Note that the first cell here contains our imports, and the cell is marked as \"parameters\" (that's a cell tag). This will allow us to inject different `INPUT` values in to test our notebook against different conditions. Your `OUTPUT` (your solution to the puzzle) should appear in a different cell than the `parameters`-tagged cell, in order for the parameter injection to work.\n"
   ]
  },
  {
   "cell_type": "code",
   "execution_count": null,
   "metadata": {
    "tags": [
     "parameters"
    ]
   },
   "outputs": [
    {
     "data": {
      "text/markdown": [
       "#### A"
      ],
      "text/plain": [
       "<IPython.core.display.Markdown object>"
      ]
     },
     "metadata": {},
     "output_type": "display_data"
    },
    {
     "name": "stdout",
     "output_type": "stream",
     "text": [
      "1abc2\n",
      "pqr3stu8vwx\n",
      "a1b2c3d4e5f\n",
      "treb7uchet\n",
      "\n"
     ]
    },
    {
     "data": {
      "text/markdown": [
       "#### B"
      ],
      "text/plain": [
       "<IPython.core.display.Markdown object>"
      ]
     },
     "metadata": {},
     "output_type": "display_data"
    },
    {
     "name": "stdout",
     "output_type": "stream",
     "text": [
      "two1nine\n",
      "eightwothree\n",
      "abcone2threexyz\n",
      "xtwone3four\n",
      "4nineeightseven2\n",
      "zoneight234\n",
      "7pqrstsixteen\n",
      "\n"
     ]
    }
   ],
   "source": [
    "from re import MULTILINE, VERBOSE, compile\n",
    "\n",
    "from advent23 import get_chk, get_inp\n",
    "\n",
    "chk = get_chk()\n",
    "inp = get_inp(1)"
   ]
  },
  {
   "cell_type": "markdown",
   "metadata": {},
   "source": [
    "### Find matches\n",
    "\n",
    "Refer to the \"RegEx Reference\" sidebar menu at [regexr](https://regexr.com). Compile a regex pattern for matching the first and last digits in a line.\n"
   ]
  },
  {
   "cell_type": "code",
   "execution_count": null,
   "metadata": {},
   "outputs": [
    {
     "data": {
      "text/markdown": [
       "#### All matches"
      ],
      "text/plain": [
       "<IPython.core.display.Markdown object>"
      ]
     },
     "metadata": {},
     "output_type": "display_data"
    },
    {
     "data": {
      "text/plain": [
       "[('1', '2'), ('3', '8'), ('1', '5'), ('7', '')]"
      ]
     },
     "metadata": {},
     "output_type": "display_data"
    }
   ],
   "source": [
    "word_pattern = compile(\n",
    "    # Verbose: ignore implicit whitespace and allow comments in the pattern below\n",
    "    # Multiline: ^ and $ match the start of a line rather than the end of the string\n",
    "    flags=VERBOSE | MULTILINE,\n",
    "    pattern=(\n",
    "        r\"\"\"\n",
    "        ^               # Start of line\n",
    "        [^\\d]*          # Zero or more non-digits\n",
    "        (?P<first>\\d)   # first digit\n",
    "        .*?             # Zero or more characters, lazily\n",
    "        (?P<last>\\d)?   # last digit, optional\n",
    "        [^\\d]*          # Match zero or more non-digits\n",
    "        $               # Match end of line\n",
    "        \"\"\"\n",
    "    ),\n",
    ")\n",
    "\n",
    "matches = word_pattern.findall(inp[\"a\"])\n",
    "chk[\"all_matches\"] = matches"
   ]
  },
  {
   "cell_type": "markdown",
   "metadata": {},
   "source": [
    "### Handle matches\n",
    "\n",
    "The comprehension filters out non-matches.\n"
   ]
  },
  {
   "cell_type": "code",
   "execution_count": null,
   "metadata": {},
   "outputs": [
    {
     "data": {
      "text/markdown": [
       "#### Calibration values"
      ],
      "text/plain": [
       "<IPython.core.display.Markdown object>"
      ]
     },
     "metadata": {},
     "output_type": "display_data"
    },
    {
     "data": {
      "text/plain": [
       "[12, 38, 15, 77]"
      ]
     },
     "metadata": {},
     "output_type": "display_data"
    }
   ],
   "source": [
    "calibration_values = []\n",
    "for match in [m for m in matches if m]:\n",
    "    first, last = match\n",
    "    last = last if last else first\n",
    "    calibration_values.append(int(f\"{first}{last}\"))\n",
    "chk[\"calibration_values\"] = calibration_values"
   ]
  },
  {
   "cell_type": "markdown",
   "metadata": {},
   "source": [
    "> <p>In this example, the calibration values of these four lines are <code>12</code>, <code>38</code>, <code>15</code>, and <code>77</code>.\n"
   ]
  },
  {
   "cell_type": "markdown",
   "metadata": {},
   "source": [
    "### Sum the calibration values\n",
    "\n",
    "> <p>Consider your entire calibration document. <em>What is the sum of all of the calibration values?</em></p>\n",
    "> </article>\n"
   ]
  },
  {
   "cell_type": "code",
   "execution_count": null,
   "metadata": {},
   "outputs": [
    {
     "data": {
      "text/markdown": [
       "#### Answer A"
      ],
      "text/plain": [
       "<IPython.core.display.Markdown object>"
      ]
     },
     "metadata": {},
     "output_type": "display_data"
    },
    {
     "data": {
      "text/plain": [
       "142"
      ]
     },
     "metadata": {},
     "output_type": "display_data"
    }
   ],
   "source": [
    "chk[\"ans_a\"] = sum(calibration_values)"
   ]
  },
  {
   "cell_type": "markdown",
   "metadata": {},
   "source": [
    "## Part 2\n",
    "\n",
    "> <article class=\"day-desc\"><p>Your calculation isn't quite right. It looks like some of the digits are actually <em>spelled out with letters</em>: <code>one</code>, <code>two</code>, <code>three</code>, <code>four</code>, <code>five</code>, <code>six</code>, <code>seven</code>, <code>eight</code>, and <code>nine</code> <em>also</em> count as valid \"digits\".</p>\n",
    "> <p>Equipped with this new information, you now need to find the real first and last digit on each line. For example:</p>\n",
    "> <pre><code>two1nine\n",
    "> eightwothree\n",
    "> abcone2threexyz\n",
    "> xtwone3four\n",
    "> 4nineeightseven2\n",
    "> zoneight234\n",
    "> 7pqrstsixteen</article>\n"
   ]
  },
  {
   "cell_type": "markdown",
   "metadata": {},
   "source": [
    "### Handle matches\n",
    "\n",
    "The comprehension filters out non-matches.\n"
   ]
  },
  {
   "cell_type": "code",
   "execution_count": null,
   "metadata": {},
   "outputs": [
    {
     "data": {
      "text/plain": [
       "re.compile(r'zero|one|two|three|four|five|six|seven|eight|nine|\\d',\n",
       "           re.MULTILINE|re.UNICODE)"
      ]
     },
     "metadata": {},
     "output_type": "display_data"
    },
    {
     "data": {
      "text/plain": [
       "re.compile(r'orez|eno|owt|eerht|ruof|evif|xis|neves|thgie|enin|\\d',\n",
       "           re.MULTILINE|re.UNICODE)"
      ]
     },
     "metadata": {},
     "output_type": "display_data"
    }
   ],
   "source": [
    "words = [\"zero\", \"one\", \"two\", \"three\", \"four\", \"five\", \"six\", \"seven\", \"eight\", \"nine\"]\n",
    "digits = {word: str(i) for i, word in enumerate(words)}\n",
    "reversed_digits = {word[::-1]: digit for word, digit in digits.items()}\n",
    "reversed_words = [word[::-1] for word in words]\n",
    "(word_pattern, reversed_word_pattern) = (\n",
    "    compile(flags=MULTILINE, pattern=pattern)\n",
    "    for pattern in (\n",
    "        \"|\".join(words) for words in ([*words, r\"\\d\"], [*reversed_words, r\"\\d\"])\n",
    "    )\n",
    ")\n",
    "display(word_pattern, reversed_word_pattern)"
   ]
  },
  {
   "cell_type": "code",
   "execution_count": null,
   "metadata": {},
   "outputs": [
    {
     "data": {
      "text/markdown": [
       "#### First digits"
      ],
      "text/plain": [
       "<IPython.core.display.Markdown object>"
      ]
     },
     "metadata": {},
     "output_type": "display_data"
    },
    {
     "data": {
      "text/plain": [
       "['2', '8', '1', '2', '4', '1', '7']"
      ]
     },
     "metadata": {},
     "output_type": "display_data"
    }
   ],
   "source": [
    "first_digits = []\n",
    "lines = inp[\"b\"].splitlines()\n",
    "\n",
    "for line in lines:\n",
    "    first_digit = None\n",
    "    if match := word_pattern.search(line):\n",
    "        first_digit = digits.get(match.group()) or match.group()\n",
    "    first_digits.append(first_digit)\n",
    "\n",
    "chk[\"first_digits\"] = first_digits"
   ]
  },
  {
   "cell_type": "code",
   "execution_count": null,
   "metadata": {},
   "outputs": [
    {
     "data": {
      "text/markdown": [
       "#### Last digits"
      ],
      "text/plain": [
       "<IPython.core.display.Markdown object>"
      ]
     },
     "metadata": {},
     "output_type": "display_data"
    },
    {
     "data": {
      "text/plain": [
       "['9', '3', '3', '4', '2', '4', '6']"
      ]
     },
     "metadata": {},
     "output_type": "display_data"
    }
   ],
   "source": [
    "last_digits = []\n",
    "for line in [line[::-1] for line in lines]:\n",
    "    first_digit = None\n",
    "    if match := reversed_word_pattern.search(line):\n",
    "        first_digit = reversed_digits.get(match.group()) or match.group()\n",
    "        line = line[: match.span()[0]]\n",
    "    last_digits.append(first_digit)\n",
    "\n",
    "chk[\"last_digits\"] = last_digits"
   ]
  },
  {
   "cell_type": "code",
   "execution_count": null,
   "metadata": {},
   "outputs": [
    {
     "data": {
      "text/markdown": [
       "#### Calibration values b"
      ],
      "text/plain": [
       "<IPython.core.display.Markdown object>"
      ]
     },
     "metadata": {},
     "output_type": "display_data"
    },
    {
     "data": {
      "text/plain": [
       "[29, 83, 13, 24, 42, 14, 76]"
      ]
     },
     "metadata": {},
     "output_type": "display_data"
    }
   ],
   "source": [
    "calibration_values = [\n",
    "    int(f\"{first}{last}\") for first, last in zip(first_digits, last_digits, strict=True)\n",
    "]\n",
    "chk[\"calibration_values_b\"] = calibration_values"
   ]
  },
  {
   "cell_type": "markdown",
   "metadata": {},
   "source": [
    "> <p>In this example, the calibration values are <code>29</code>, <code>83</code>, <code>13</code>, <code>24</code>, <code>42</code>, <code>14</code>, and <code>76</code>.\n"
   ]
  },
  {
   "cell_type": "markdown",
   "metadata": {},
   "source": [
    "### Sum the calibration values\n",
    "\n",
    "> <em>What is the sum of all of the calibration values?</em>\n"
   ]
  },
  {
   "cell_type": "code",
   "execution_count": null,
   "metadata": {},
   "outputs": [
    {
     "data": {
      "text/markdown": [
       "#### Answer B"
      ],
      "text/plain": [
       "<IPython.core.display.Markdown object>"
      ]
     },
     "metadata": {},
     "output_type": "display_data"
    },
    {
     "data": {
      "text/plain": [
       "281"
      ]
     },
     "metadata": {},
     "output_type": "display_data"
    }
   ],
   "source": [
    "chk[\"ans_b\"] = sum(calibration_values)"
   ]
  },
  {
   "cell_type": "markdown",
   "metadata": {},
   "source": [
    "> Adding these together produces <code><em>281</em></code>.\n"
   ]
  }
 ],
 "metadata": {
  "kernelspec": {
   "display_name": ".venv",
   "language": "python",
   "name": "python3"
  },
  "language_info": {
   "codemirror_mode": {
    "name": "ipython",
    "version": 3
   },
   "file_extension": ".py",
   "mimetype": "text/x-python",
   "name": "python",
   "nbconvert_exporter": "python",
   "pygments_lexer": "ipython3"
  }
 },
 "nbformat": 4,
 "nbformat_minor": 2
}
