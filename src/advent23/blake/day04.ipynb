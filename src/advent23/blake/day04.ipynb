{
 "cells": [
  {
   "cell_type": "markdown",
   "metadata": {},
   "source": [
    "# Day 4: Scratchcards\n",
    "\n",
    "## Part 1\n",
    "\n",
    "> <p>The gondola takes you up. Strangely, though, the ground doesn't seem to be coming with you; you're not climbing a mountain. As the circle of Snow Island recedes below you, an entire new landmass suddenly appears above you! The gondola carries you to the surface of the new island and lurches into the station.</p>\n",
    "> <p>As you exit the gondola, the first thing you notice is that the air here is much <em>warmer</em> than it was on Snow Island. It's also quite <em>humid</em>. Is this where the water source is?</p>\n",
    "> <p>The next thing you notice is an Elf sitting on the floor across the station in what seems to be a pile of colorful square cards.</p>\n",
    "> <p>\"Oh! Hello!\" The Elf excitedly runs over to you. \"How may I be of service?\" You ask about water sources.</p>\n",
    "> <p>\"I'm not sure; I just operate the gondola lift. That does sound like something we'd have, though - this is <em><span title=\"I find this way funnier than it has any right to be.\">Island Island</span></em>, after all! I bet the <em>gardener</em> would know. He's on a different island, though - er, the small kind surrounded by water, not the floating kind. We really need to come up with a better naming scheme. Tell you what: if you can help me with something quick, I'll let you <em>borrow my boat</em> and you can go visit the gardener. I got all these <a href=\"https://en.wikipedia.org/wiki/Scratchcard\" target=\"_blank\">scratchcards</a> as a gift, but I can't figure out what I've won.\"</p>\n",
    "> <p>The Elf leads you over to the pile of colorful cards. There, you discover dozens of scratchcards, all with their opaque covering already scratched off. Picking one up, it looks like each card has two lists of numbers separated by a vertical bar (<code>|</code>): a list of <em>winning numbers</em> and then a list of <em>numbers you have</em>. You organize the information into a table (your puzzle input).</p>\n",
    "> <p>As far as the Elf has been able to figure out, you have to figure out which of the <em>numbers you have</em> appear in the list of <em>winning numbers</em>. The first match makes the card worth <em>one point</em> and each match after the first <em>doubles</em> the point value of that card.</p>\n",
    "> <p>For example:</p>\n",
    "> <pre><code>Card 1: 41 48 83 86 17 | 83 86  6 31 17  9 48 53\n",
    "> Card 2: 13 32 20 16 61 | 61 30 68 82 17 32 24 19\n",
    "> Card 3:  1 21 53 59 44 | 69 82 63 72 16 21 14  1\n",
    "> Card 4: 41 92 73 84 69 | 59 84 76 51 58  5 54 83\n",
    "> Card 5: 87 83 26 28 32 | 88 30 70 12 93 22 82 36\n",
    "> Card 6: 31 18 13 56 72 | 74 77 10 23 35 67 36 11\n",
    "> </code></pre>\n"
   ]
  },
  {
   "cell_type": "code",
   "execution_count": null,
   "metadata": {},
   "outputs": [
    {
     "data": {
      "text/markdown": [
       "#### Part 1"
      ],
      "text/plain": [
       "<IPython.core.display.Markdown object>"
      ]
     },
     "metadata": {},
     "output_type": "display_data"
    },
    {
     "name": "stdout",
     "output_type": "stream",
     "text": [
      "Card 1: 41 48 83 86 17 | 83 86  6 31 17  9 48 53\n",
      "Card 2: 13 32 20 16 61 | 61 30 68 82 17 32 24 19\n",
      "Card 3:  1 21 53 59 44 | 69 82 63 72 16 21 14  1\n",
      "Card 4: 41 92 73 84 69 | 59 84 76 51 58  5 54 83\n",
      "Card 5: 87 83 26 28 32 | 88 30 70 12 93 22 82 36\n",
      "Card 6: 31 18 13 56 72 | 74 77 10 23 35 67 36 11\n",
      "\n"
     ]
    },
    {
     "data": {
      "text/markdown": [
       "#### Part 2"
      ],
      "text/plain": [
       "<IPython.core.display.Markdown object>"
      ]
     },
     "metadata": {},
     "output_type": "display_data"
    },
    {
     "name": "stdout",
     "output_type": "stream",
     "text": [
      "<same as part 1>\n"
     ]
    }
   ],
   "source": [
    "from advent23 import get_chk, get_inp\n",
    "from advent23.stringer import Stringer, StringerChecker, g\n",
    "\n",
    "chk = get_chk()\n",
    "inp = get_inp(4)\n",
    "\n",
    "check = StringerChecker(chk)"
   ]
  },
  {
   "cell_type": "code",
   "execution_count": null,
   "metadata": {},
   "outputs": [
    {
     "data": {
      "text/markdown": [
       "#### Pattern"
      ],
      "text/plain": [
       "<IPython.core.display.Markdown object>"
      ]
     },
     "metadata": {},
     "output_type": "display_data"
    },
    {
     "name": "stdout",
     "output_type": "stream",
     "text": [
      "^Card\\s\\d+:\\s(?P<winning>.+)\\s\\|\\s(?P<drawn>.+)$\n"
     ]
    },
    {
     "data": {
      "text/markdown": [
       "#### Card one winning numbers"
      ],
      "text/plain": [
       "<IPython.core.display.Markdown object>"
      ]
     },
     "metadata": {},
     "output_type": "display_data"
    },
    {
     "data": {
      "text/plain": [
       "[41, 48, 83, 86, 17]"
      ]
     },
     "metadata": {},
     "output_type": "display_data"
    },
    {
     "data": {
      "text/markdown": [
       "#### Card one drawn numbers"
      ],
      "text/plain": [
       "<IPython.core.display.Markdown object>"
      ]
     },
     "metadata": {},
     "output_type": "display_data"
    },
    {
     "data": {
      "text/plain": [
       "[83, 86, 6, 31, 17, 9, 48, 53]"
      ]
     },
     "metadata": {},
     "output_type": "display_data"
    }
   ],
   "source": [
    "stringer = check(\n",
    "    Stringer(r=r\"^Card\\s\\d+:\\s$winning\\s\\|\\s$drawn$$\", **g(\"winning\"), **g(\"drawn\")),\n",
    "    {\n",
    "        \"card_one_winning_numbers\": lambda p: (\n",
    "            [int(num) for num in match[\"winning\"].split()]\n",
    "            if (match := p.search(inp[\"a\"]))\n",
    "            else None\n",
    "        ),\n",
    "        \"card_one_drawn_numbers\": lambda p: (\n",
    "            [int(num) for num in match[\"drawn\"].split()]\n",
    "            if (match := p.search(inp[\"a\"]))\n",
    "            else None\n",
    "        ),\n",
    "    },\n",
    ")\n",
    "CHECK_ALSO = [\"card_one_winning_numbers\", \"card_one_drawn_numbers\"]"
   ]
  },
  {
   "cell_type": "code",
   "execution_count": null,
   "metadata": {},
   "outputs": [
    {
     "data": {
      "text/markdown": [
       "#### Card one wins"
      ],
      "text/plain": [
       "<IPython.core.display.Markdown object>"
      ]
     },
     "metadata": {},
     "output_type": "display_data"
    },
    {
     "data": {
      "text/plain": [
       "[48, 17, 83, 86]"
      ]
     },
     "metadata": {},
     "output_type": "display_data"
    },
    {
     "data": {
      "text/markdown": [
       "#### Card one points"
      ],
      "text/plain": [
       "<IPython.core.display.Markdown object>"
      ]
     },
     "metadata": {},
     "output_type": "display_data"
    },
    {
     "data": {
      "text/plain": [
       "8"
      ]
     },
     "metadata": {},
     "output_type": "display_data"
    }
   ],
   "source": [
    "chk[\"card_one_wins\"] = list(\n",
    "    set(chk[\"card_one_winning_numbers\"]) & set(chk[\"card_one_drawn_numbers\"])\n",
    ")\n",
    "chk[\"card_one_points\"] = 2 ** (len(chk[\"card_one_wins\"]) - 1)"
   ]
  },
  {
   "cell_type": "markdown",
   "metadata": {},
   "source": [
    "> <p>In the above example, card 1 has five winning numbers (<code>41</code>, <code>48</code>, <code>83</code>, <code>86</code>, and <code>17</code>) and eight numbers you have (<code>83</code>, <code>86</code>, <code>6</code>, <code>31</code>, <code>17</code>, <code>9</code>, <code>48</code>, and <code>53</code>). Of the numbers you have, four of them (<code>48</code>, <code>83</code>, <code>17</code>, and <code>86</code>) are winning numbers! That means card 1 is worth <code><em>8</em></code> points (1 for the first match, then doubled three times for each of the three matches after the first).</p>\n",
    "> <ul>\n",
    "> <li>Card 2 has two winning numbers (<code>32</code> and <code>61</code>), so it is worth <code><em>2</em></code> points.</li>\n",
    "> <li>Card 3 has two winning numbers (<code>1</code> and <code>21</code>), so it is worth <code><em>2</em></code> points.</li>\n",
    "> <li>Card 4 has one winning number (<code>84</code>), so it is worth <code><em>1</em></code> point.</li>\n",
    "> <li>Card 5 has no winning numbers, so it is worth no points.</li>\n",
    "> <li>Card 6 has no winning numbers, so it is worth no points.</li>\n",
    "> </ul>\n"
   ]
  },
  {
   "cell_type": "code",
   "execution_count": null,
   "metadata": {},
   "outputs": [
    {
     "data": {
      "text/markdown": [
       "#### Cards winning numbers"
      ],
      "text/plain": [
       "<IPython.core.display.Markdown object>"
      ]
     },
     "metadata": {},
     "output_type": "display_data"
    },
    {
     "data": {
      "text/plain": [
       "[[48, 83, 17, 86], [32, 61], [1, 21], [84], [], []]"
      ]
     },
     "metadata": {},
     "output_type": "display_data"
    },
    {
     "data": {
      "text/markdown": [
       "#### Card scores"
      ],
      "text/plain": [
       "<IPython.core.display.Markdown object>"
      ]
     },
     "metadata": {},
     "output_type": "display_data"
    },
    {
     "data": {
      "text/plain": [
       "[8, 2, 2, 1, 0, 0]"
      ]
     },
     "metadata": {},
     "output_type": "display_data"
    }
   ],
   "source": [
    "chk[\"cards_winning_numbers\"] = [[48, 83, 17, 86], [32, 61], [1, 21], [84], [], []]\n",
    "chk[\"card_scores\"] = [8, 2, 2, 1, 0, 0]"
   ]
  },
  {
   "cell_type": "markdown",
   "metadata": {},
   "source": [
    "> <p>So, in this example, the Elf's pile of scratchcards is worth <code><em>13</em></code> points.</p>\n",
    "> <p>Take a seat in the large pile of colorful cards. <em>How many points are they worth in total?</em></p>\n",
    "> </article>\n"
   ]
  }
 ],
 "metadata": {
  "kernelspec": {
   "display_name": ".venv",
   "language": "python",
   "name": "python3"
  },
  "language_info": {
   "codemirror_mode": {
    "name": "ipython",
    "version": 3
   },
   "file_extension": ".py",
   "mimetype": "text/x-python",
   "name": "python",
   "nbconvert_exporter": "python",
   "pygments_lexer": "ipython3"
  }
 },
 "nbformat": 4,
 "nbformat_minor": 2
}
