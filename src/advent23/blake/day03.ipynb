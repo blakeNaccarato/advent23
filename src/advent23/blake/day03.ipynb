{
 "cells": [
  {
   "cell_type": "markdown",
   "metadata": {},
   "source": [
    "# Day 3: Gear Ratios\n",
    "\n",
    "## Part 1\n",
    "\n",
    "> <p>You and the Elf eventually reach a <a href=\"https://en.wikipedia.org/wiki/Gondola_lift\" target=\"_blank\">gondola lift</a> station; he says the gondola lift will take you up to the <em>water source</em>, but this is as far as he can bring you. You go inside.</p>\n",
    "> <p>It doesn't take long to find the gondolas, but there seems to be a problem: they're not moving.</p>\n",
    "> <p>\"Aaah!\"</p>\n",
    "> <p>You turn around to see a slightly-greasy Elf with a wrench and a look of surprise. \"Sorry, I wasn't expecting anyone! The gondola lift isn't working right now; it'll still be a while before I can fix it.\" You offer to help.</p>\n",
    "> <p>The engineer explains that an engine part seems to be missing from the engine, but nobody can figure out which one. If you can <em>add up all the part numbers</em> in the engine schematic, it should be easy to work out which part is missing.</p>\n",
    "> <p>The engine schematic (your puzzle input) consists of a visual representation of the engine. There are lots of numbers and symbols you don't really understand, but apparently <em>any number adjacent to a symbol</em>, even diagonally, is a \"part number\" and should be included in your sum. (Periods (<code>.</code>) do not count as a symbol.)</p>\n",
    "> <p>Here is an example engine schematic:</p>\n",
    "> <pre><code>467..114..\n",
    "> ...*......\n",
    "> ..35..633.\n",
    "> ......#...\n",
    "> 617*......\n",
    "> .....+.58.\n",
    "> ..592.....\n",
    "> ......755.\n",
    "> ...$.*....\n",
    "> .664.598..\n",
    "> </code></pre>\n"
   ]
  },
  {
   "cell_type": "code",
   "execution_count": null,
   "metadata": {},
   "outputs": [
    {
     "data": {
      "text/markdown": [
       "#### Part 1"
      ],
      "text/plain": [
       "<IPython.core.display.Markdown object>"
      ]
     },
     "metadata": {},
     "output_type": "display_data"
    },
    {
     "name": "stdout",
     "output_type": "stream",
     "text": [
      "467..114..\n",
      "...*......\n",
      "..35..633.\n",
      "......#...\n",
      "617*......\n",
      ".....+.58.\n",
      "..592.....\n",
      "......755.\n",
      "...$.*....\n",
      ".664.598..\n",
      "\n"
     ]
    },
    {
     "data": {
      "text/markdown": [
       "#### Part 2"
      ],
      "text/plain": [
       "<IPython.core.display.Markdown object>"
      ]
     },
     "metadata": {},
     "output_type": "display_data"
    },
    {
     "name": "stdout",
     "output_type": "stream",
     "text": [
      "<INPUT UNKNOWN>\n"
     ]
    }
   ],
   "source": [
    "from re import Match\n",
    "\n",
    "from advent23 import Checker, disp_name, get_chk, get_inp\n",
    "from advent23.blake import remap\n",
    "\n",
    "chk = get_chk()\n",
    "inp = get_inp(3)\n",
    "\n",
    "NULL = \".\"\n",
    "\"\"\"Character representing \"not a symbol\" in the input.\"\"\"\n",
    "\n",
    "SYMBOLS = \"#$%&*+-/=@\"\n",
    "\"\"\"Possible symbols in the input.\n",
    "\n",
    "Found by taking the intersection of symbols in `string.punctuation` and\n",
    "`input/blake.txt`, excluding `.` (period).\"\"\"\n",
    "\n",
    "RE_SYMBOLS = r\"#\\$%&\\*\\+\\-\\/=@\"\n",
    "\"\"\"Same as `SYMBOLS`, but with special regex characters escaped.\n",
    "\n",
    "If you pursue a regex solution, forgetting to escape these characters will introduce\n",
    "subtle bugs.\n",
    "\"\"\"\n",
    "\n",
    "check = Checker(chk)\n",
    "checks = {}"
   ]
  },
  {
   "cell_type": "code",
   "execution_count": null,
   "metadata": {},
   "outputs": [],
   "source": [
    "width = inp[\"a\"].find(\"\\n\")\n",
    "oneline = inp[\"a\"].replace(\"\\n\", \"\")\n",
    "\n",
    "\n",
    "def get_pos(sym: Match[str]) -> tuple[int, int, int]:\n",
    "    start, end = sym.span()\n",
    "    end -= 1\n",
    "    row, lcol = divmod(start, width)\n",
    "    rcol = lcol + end - start\n",
    "    return row, lcol, rcol"
   ]
  },
  {
   "cell_type": "code",
   "execution_count": null,
   "metadata": {},
   "outputs": [
    {
     "data": {
      "text/markdown": [
       "#### Symbol positions"
      ],
      "text/plain": [
       "<IPython.core.display.Markdown object>"
      ]
     },
     "metadata": {},
     "output_type": "display_data"
    },
    {
     "name": "stdout",
     "output_type": "stream",
     "text": [
      "[[1,\n",
      " 12],\n",
      " [1,\n",
      " 18],\n",
      " [1,\n",
      " 30],\n",
      " [1,\n",
      " 34],\n",
      " [1,\n",
      " 42],\n",
      " [1,\n",
      " 69],\n",
      " [1,\n",
      " 82],\n",
      " [1,\n",
      "... <view truncated> ...\n"
     ]
    }
   ],
   "source": [
    "symbols = RE_SYMBOLS.replace(\"$\", \"$$\")\n",
    "\n",
    "symbol_positions = [\n",
    "    get_pos(sym)[:2] for sym in remap(r=rf\"[{symbols}]\").finditer(oneline)\n",
    "]\n",
    "chk[\"symbol_positions\"] = [list(pos) for pos in symbol_positions]"
   ]
  },
  {
   "cell_type": "code",
   "execution_count": null,
   "metadata": {},
   "outputs": [
    {
     "data": {
      "text/markdown": [
       "#### Not parts"
      ],
      "text/plain": [
       "<IPython.core.display.Markdown object>"
      ]
     },
     "metadata": {},
     "output_type": "display_data"
    },
    {
     "data": {
      "text/plain": [
       "[114, 58]"
      ]
     },
     "metadata": {},
     "output_type": "display_data"
    }
   ],
   "source": [
    "chk[\"not_parts\"] = [114, 58]"
   ]
  },
  {
   "cell_type": "markdown",
   "metadata": {},
   "source": [
    "> <p>In this schematic, two numbers are <em>not</em> part numbers because they are not adjacent to a symbol: <code>114</code> (top right) and <code>58</code> (middle right).\n"
   ]
  },
  {
   "cell_type": "code",
   "execution_count": null,
   "metadata": {},
   "outputs": [
    {
     "data": {
      "text/markdown": [
       "#### Input Part 1"
      ],
      "text/plain": [
       "<IPython.core.display.Markdown object>"
      ]
     },
     "metadata": {},
     "output_type": "display_data"
    },
    {
     "name": "stdout",
     "output_type": "stream",
     "text": [
      ".........798...145.........629....579.....455.....................13 <...view truncated>\n",
      "............*.....*...........*...&...179.*........737...194........ <...>\n",
      "........459..489.817........880.........*..996........*....*........ <...>\n",
      "...........@.........................813............234.552..307.... <...>\n",
      "...100...................*...............131..................*..... <...>\n",
      "......+....#126.......214..........$......*.....+.............939... <...>\n",
      "...................................854....979....177.......%........ <...>\n",
      ".......427............................................683&.726...303 <...>\n",
      ".....=.*...........989......888.....................$............../ <...>\n",
      "..924..219...........*.....*........979............191.%.........+.. <...>\n",
      "....................109........................559.....835.....708.. <...>\n",
      "........................................*........=.........751...... <...>\n",
      "......923...............571.....@.672....963.471.......154...*...... <...>\n",
      ".........*......654+....&....309...=.........*....543.........583... <...>\n",
      "..618*....60.........................426...&.645....*............... <...>\n",
      "... <view truncated> ...\n"
     ]
    }
   ],
   "source": [
    "disp_name(\"Input Part 1\", inp[\"a\"])"
   ]
  },
  {
   "cell_type": "code",
   "execution_count": null,
   "metadata": {},
   "outputs": [
    {
     "data": {
      "text/markdown": [
       "#### Parts"
      ],
      "text/plain": [
       "<IPython.core.display.Markdown object>"
      ]
     },
     "metadata": {},
     "output_type": "display_data"
    },
    {
     "name": "stdout",
     "output_type": "stream",
     "text": [
      "[798,\n",
      " 145,\n",
      " 629,\n",
      " 579,\n",
      " 455,\n",
      " 130,\n",
      " 243,\n",
      " 154,\n",
      " 179,\n",
      " 737,\n",
      " 194,\n",
      " 854,\n",
      " 560,\n",
      " 699,\n",
      " 459,\n",
      "... <view truncated> ...\n"
     ]
    },
    {
     "data": {
      "text/markdown": [
       "#### Wrong parts"
      ],
      "text/plain": [
       "<IPython.core.display.Markdown object>"
      ]
     },
     "metadata": {},
     "output_type": "display_data"
    },
    {
     "data": {
      "text/plain": [
       "[58, 114]"
      ]
     },
     "metadata": {},
     "output_type": "display_data"
    },
    {
     "data": {
      "text/markdown": [
       "#### Part 1"
      ],
      "text/plain": [
       "<IPython.core.display.Markdown object>"
      ]
     },
     "metadata": {},
     "output_type": "display_data"
    },
    {
     "data": {
      "text/plain": [
       "520135"
      ]
     },
     "metadata": {},
     "output_type": "display_data"
    }
   ],
   "source": [
    "parts: list[int] = []\n",
    "for num in remap(r=r\"\\d+\").finditer(oneline):\n",
    "    (row, lcol, rcol) = get_pos(num)\n",
    "    minrow = row - 1\n",
    "    maxrow = row + 1\n",
    "    mincol = lcol - 1\n",
    "    maxcol = rcol + 1\n",
    "    for srow, scol in symbol_positions:\n",
    "        if minrow <= srow <= maxrow and mincol <= scol <= maxcol:\n",
    "            parts.append(int(num[0]))\n",
    "            break\n",
    "\n",
    "chk[\"parts\"] = parts\n",
    "disp_name(\"Wrong parts\", [part for part in parts if part in chk[\"not_parts\"]])\n",
    "chk[\"a\"] = sum(parts)"
   ]
  },
  {
   "cell_type": "markdown",
   "metadata": {},
   "source": [
    "Every other number is adjacent to a symbol and so <em>is</em> a part number; their sum is <code><em>4361</em></code>.</p>\n",
    "\n",
    "> <p>Of course, the actual engine schematic is much larger. <em>What is the sum of all of the part numbers in the engine schematic?</em></p>\n",
    "> </article>\n"
   ]
  }
 ],
 "metadata": {
  "kernelspec": {
   "display_name": ".venv",
   "language": "python",
   "name": "python3"
  },
  "language_info": {
   "codemirror_mode": {
    "name": "ipython",
    "version": 3
   },
   "file_extension": ".py",
   "mimetype": "text/x-python",
   "name": "python",
   "nbconvert_exporter": "python",
   "pygments_lexer": "ipython3"
  }
 },
 "nbformat": 4,
 "nbformat_minor": 2
}
