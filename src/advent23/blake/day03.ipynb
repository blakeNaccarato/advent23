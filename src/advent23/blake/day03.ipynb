{
 "cells": [
  {
   "cell_type": "markdown",
   "metadata": {},
   "source": [
    "# Day 3: Gear Ratios\n",
    "\n",
    "## Part 1\n",
    "\n",
    "> <p>You and the Elf eventually reach a <a href=\"https://en.wikipedia.org/wiki/Gondola_lift\" target=\"_blank\">gondola lift</a> station; he says the gondola lift will take you up to the <em>water source</em>, but this is as far as he can bring you. You go inside.</p>\n",
    "> <p>It doesn't take long to find the gondolas, but there seems to be a problem: they're not moving.</p>\n",
    "> <p>\"Aaah!\"</p>\n",
    "> <p>You turn around to see a slightly-greasy Elf with a wrench and a look of surprise. \"Sorry, I wasn't expecting anyone! The gondola lift isn't working right now; it'll still be a while before I can fix it.\" You offer to help.</p>\n",
    "> <p>The engineer explains that an engine part seems to be missing from the engine, but nobody can figure out which one. If you can <em>add up all the part numbers</em> in the engine schematic, it should be easy to work out which part is missing.</p>\n",
    "> <p>The engine schematic (your puzzle input) consists of a visual representation of the engine. There are lots of numbers and symbols you don't really understand, but apparently <em>any number adjacent to a symbol</em>, even diagonally, is a \"part number\" and should be included in your sum. (Periods (<code>.</code>) do not count as a symbol.)</p>\n",
    "> <p>Here is an example engine schematic:</p>\n",
    "> <pre><code>467..114..\n",
    "> ...*......\n",
    "> ..35..633.\n",
    "> ......#...\n",
    "> 617*......\n",
    "> .....+.58.\n",
    "> ..592.....\n",
    "> ......755.\n",
    "> ...$.*....\n",
    "> .664.598..\n",
    "> </code></pre>\n"
   ]
  },
  {
   "cell_type": "code",
   "execution_count": null,
   "metadata": {},
   "outputs": [
    {
     "data": {
      "text/markdown": [
       "#### Part 1"
      ],
      "text/plain": [
       "<IPython.core.display.Markdown object>"
      ]
     },
     "metadata": {},
     "output_type": "display_data"
    },
    {
     "name": "stdout",
     "output_type": "stream",
     "text": [
      "467..114..\n",
      "...*......\n",
      "..35..633.\n",
      "......#...\n",
      "617*......\n",
      ".....+.58.\n",
      "..592.....\n",
      "......755.\n",
      "...$.*....\n",
      ".664.598..\n",
      "\n"
     ]
    },
    {
     "data": {
      "text/markdown": [
       "#### Part 2"
      ],
      "text/plain": [
       "<IPython.core.display.Markdown object>"
      ]
     },
     "metadata": {},
     "output_type": "display_data"
    },
    {
     "name": "stdout",
     "output_type": "stream",
     "text": [
      "<same as part 1>\n"
     ]
    }
   ],
   "source": [
    "from operator import mul\n",
    "from re import Match, finditer\n",
    "\n",
    "from advent23 import Checker, disp_name, get_chk, get_inp\n",
    "\n",
    "chk = get_chk()\n",
    "inp = get_inp(3)\n",
    "\n",
    "SYMBOLS = \"#$%&*+-/=@\"\n",
    "\"\"\"Possible symbols in the input.\n",
    "\n",
    "Found by taking the intersection of symbols in `string.punctuation` and\n",
    "`input/blake.txt`, excluding `.`. If your input includes other symbols, you\n",
    "might need to include those, too. I doubt our inputs will carry different symbols,\n",
    "though.\n",
    "\"\"\"\n",
    "\n",
    "ESCAPED_SYMBOLS = r\"#\\$%&\\*\\+\\-\\/=@\"\n",
    "\"\"\"Same as `SYMBOLS`, but with special regex characters escaped.\n",
    "\n",
    "If you pursue a regex solution, forgetting to escape these characters will introduce\n",
    "subtle bugs.\n",
    "\"\"\"\n",
    "\n",
    "ESCAPED_ASTERISK = r\"\\*\"\n",
    "\"\"\"Escaped asterisk for part two, if you pursue a regex solution.\"\"\"\n",
    "\n",
    "check = Checker(chk)\n",
    "checks = {}"
   ]
  },
  {
   "cell_type": "code",
   "execution_count": null,
   "metadata": {},
   "outputs": [],
   "source": [
    "WIDTH = inp[\"a\"].find(\"\\n\")\n",
    "\"\"\"Width of the field for coordinate calculations.\"\"\"\n",
    "\n",
    "INP_NO_LN = inp[\"a\"].replace(\"\\n\", \"\")\n",
    "\"\"\"Input with newlines removed.\n",
    "\n",
    "Avoids accumulating off-by-one errors when finding coordinates.\n",
    "\"\"\"\n",
    "\n",
    "\n",
    "def get_pos(sym: Match[str]) -> tuple[int, int, int]:\n",
    "    \"\"\"Get the position of a match.\"\"\"\n",
    "    start, after_end = sym.span()\n",
    "    end = after_end - 1\n",
    "    row, left = divmod(start, WIDTH)\n",
    "    right = left + end - start\n",
    "    return row, left, right\n",
    "\n",
    "\n",
    "def get_pad(sym: Match[str]) -> tuple[int, int, int, int]:\n",
    "    \"\"\"Get the bounds of a one-element pad around a match.\"\"\"\n",
    "    row, left, right = get_pos(sym)\n",
    "    return row - 1, row + 1, left - 1, right + 1"
   ]
  },
  {
   "cell_type": "code",
   "execution_count": null,
   "metadata": {},
   "outputs": [
    {
     "data": {
      "text/markdown": [
       "#### Symbol positions"
      ],
      "text/plain": [
       "<IPython.core.display.Markdown object>"
      ]
     },
     "metadata": {},
     "output_type": "display_data"
    },
    {
     "data": {
      "text/plain": [
       "[[1, 3], [3, 6], [4, 3], [5, 5], [8, 3], [8, 5]]"
      ]
     },
     "metadata": {},
     "output_type": "display_data"
    }
   ],
   "source": [
    "numbers = list(finditer(r\"\\d+\", INP_NO_LN))\n",
    "symbol_positions = [\n",
    "    get_pos(sym)[:2] for sym in finditer(rf\"[{ESCAPED_SYMBOLS}]\", INP_NO_LN)\n",
    "]\n",
    "chk[\"symbol_positions\"] = [list(pos) for pos in symbol_positions]"
   ]
  },
  {
   "cell_type": "code",
   "execution_count": null,
   "metadata": {},
   "outputs": [
    {
     "data": {
      "text/markdown": [
       "#### Not parts"
      ],
      "text/plain": [
       "<IPython.core.display.Markdown object>"
      ]
     },
     "metadata": {},
     "output_type": "display_data"
    },
    {
     "data": {
      "text/plain": [
       "[114, 58]"
      ]
     },
     "metadata": {},
     "output_type": "display_data"
    },
    {
     "data": {
      "text/markdown": [
       "#### Part 1"
      ],
      "text/plain": [
       "<IPython.core.display.Markdown object>"
      ]
     },
     "metadata": {},
     "output_type": "display_data"
    },
    {
     "name": "stdout",
     "output_type": "stream",
     "text": [
      "467..114..\n",
      "...*......\n",
      "..35..633.\n",
      "......#...\n",
      "617*......\n",
      ".....+.58.\n",
      "..592.....\n",
      "......755.\n",
      "...$.*....\n",
      ".664.598..\n",
      "\n"
     ]
    }
   ],
   "source": [
    "chk[\"not_parts\"] = [114, 58]\n",
    "inp[\"a\"] = inp[\"a\"]"
   ]
  },
  {
   "cell_type": "markdown",
   "metadata": {},
   "source": [
    "> <p>In this schematic, two numbers are <em>not</em> part numbers because they are not adjacent to a symbol: <code>114</code> (top right) and <code>58</code> (middle right).\n"
   ]
  },
  {
   "cell_type": "code",
   "execution_count": null,
   "metadata": {},
   "outputs": [
    {
     "data": {
      "text/markdown": [
       "#### Parts"
      ],
      "text/plain": [
       "<IPython.core.display.Markdown object>"
      ]
     },
     "metadata": {},
     "output_type": "display_data"
    },
    {
     "data": {
      "text/plain": [
       "[467, 35, 633, 617, 592, 755, 664, 598]"
      ]
     },
     "metadata": {},
     "output_type": "display_data"
    },
    {
     "data": {
      "text/markdown": [
       "#### Part 1"
      ],
      "text/plain": [
       "<IPython.core.display.Markdown object>"
      ]
     },
     "metadata": {},
     "output_type": "display_data"
    },
    {
     "data": {
      "text/plain": [
       "4361"
      ]
     },
     "metadata": {},
     "output_type": "display_data"
    }
   ],
   "source": [
    "parts: list[int] = []\n",
    "for num in numbers:\n",
    "    (top, bottom, left, right) = get_pad(num)\n",
    "    for row, col in symbol_positions:\n",
    "        if top <= row <= bottom and left <= col <= right:\n",
    "            parts.append(int(num[0]))\n",
    "            break\n",
    "\n",
    "chk[\"parts\"] = parts\n",
    "if wrong_parts := [part for part in parts if part in chk[\"not_parts\"]]:\n",
    "    disp_name(\"Wrong parts\", [part for part in parts if part in chk[\"not_parts\"]])\n",
    "chk[\"a\"] = sum(parts)"
   ]
  },
  {
   "cell_type": "markdown",
   "metadata": {},
   "source": [
    "> Every other number is adjacent to a symbol and so <em>is</em> a part number; their sum is <code><em>4361</em></code>.</p>\n",
    ">\n",
    "> <p>Of course, the actual engine schematic is much larger. <em>What is the sum of all of the part numbers in the engine schematic?</em></p>\n",
    "> </article>\n",
    "\n",
    "# Part 2\n",
    "\n",
    "> <p>The engineer finds the missing part and installs it in the engine! As the engine springs to life, you jump in the closest gondola, finally ready to ascend to the water source.</p>\n",
    "> <p>You don't seem to be going very fast, though. Maybe something is still wrong? Fortunately, the gondola has a phone labeled \"help\", so you pick it up and the engineer answers.</p>\n",
    "> <p>Before you can explain the situation, she suggests that you look out the window. There stands the engineer, holding a phone in one hand and waving with the other. You're going so slowly that you haven't even left the station. You exit the gondola.</p>\n",
    "> <p>The missing part wasn't the only issue - one of the gears in the engine is wrong. A <em>gear</em> is any <code>*</code> symbol that is adjacent to <em>exactly two part numbers</em>. Its <em>gear ratio</em> is the result of <span title=\"They're magic gears.\">multiplying</span> those two numbers together.</p>\n",
    "> <p>This time, you need to find the gear ratio of every gear and add them all up so that the engineer can figure out which gear needs to be replaced.</p>\n",
    "> <p>Consider the same engine schematic again:</p>\n",
    "> <pre><code>467..114..\n",
    "> ...*......\n",
    "> ..35..633.\n",
    "> ......#...\n",
    "> 617*......\n",
    "> .....+.58.\n",
    "> ..592.....\n",
    "> ......755.\n",
    "> ...$.*....\n",
    "> .664.598..\n",
    "> </code></pre>\n"
   ]
  },
  {
   "cell_type": "code",
   "execution_count": null,
   "metadata": {},
   "outputs": [],
   "source": [
    "gears: list[list[int]] = []\n",
    "for row, col in [get_pos(sym)[:2] for sym in finditer(ESCAPED_ASTERISK, INP_NO_LN)]:\n",
    "    neighbors: list[int] = []\n",
    "    for num in numbers:\n",
    "        (top, bottom, left, right) = get_pad(num)\n",
    "        if top <= row <= bottom and left <= col <= right:\n",
    "            neighbors.append(int(num.group()))\n",
    "            if len(neighbors) > 1:\n",
    "                gears.append(neighbors)\n",
    "                break"
   ]
  },
  {
   "cell_type": "code",
   "execution_count": null,
   "metadata": {},
   "outputs": [
    {
     "data": {
      "text/markdown": [
       "#### First gear"
      ],
      "text/plain": [
       "<IPython.core.display.Markdown object>"
      ]
     },
     "metadata": {},
     "output_type": "display_data"
    },
    {
     "data": {
      "text/plain": [
       "[467, 35]"
      ]
     },
     "metadata": {},
     "output_type": "display_data"
    },
    {
     "data": {
      "text/markdown": [
       "#### First gear ratio"
      ],
      "text/plain": [
       "<IPython.core.display.Markdown object>"
      ]
     },
     "metadata": {},
     "output_type": "display_data"
    },
    {
     "data": {
      "text/plain": [
       "16345"
      ]
     },
     "metadata": {},
     "output_type": "display_data"
    },
    {
     "data": {
      "text/markdown": [
       "#### Second gear"
      ],
      "text/plain": [
       "<IPython.core.display.Markdown object>"
      ]
     },
     "metadata": {},
     "output_type": "display_data"
    },
    {
     "data": {
      "text/plain": [
       "[755, 598]"
      ]
     },
     "metadata": {},
     "output_type": "display_data"
    },
    {
     "data": {
      "text/markdown": [
       "#### Second gear ratio"
      ],
      "text/plain": [
       "<IPython.core.display.Markdown object>"
      ]
     },
     "metadata": {},
     "output_type": "display_data"
    },
    {
     "data": {
      "text/plain": [
       "451490"
      ]
     },
     "metadata": {},
     "output_type": "display_data"
    },
    {
     "data": {
      "text/markdown": [
       "#### Sum of all gear ratios"
      ],
      "text/plain": [
       "<IPython.core.display.Markdown object>"
      ]
     },
     "metadata": {},
     "output_type": "display_data"
    },
    {
     "data": {
      "text/plain": [
       "467835"
      ]
     },
     "metadata": {},
     "output_type": "display_data"
    }
   ],
   "source": [
    "chk[\"first_gear\"] = gears[0]\n",
    "chk[\"first_gear_ratio\"] = mul(*gears[0])\n",
    "chk[\"second_gear\"] = gears[1]\n",
    "chk[\"second_gear_ratio\"] = mul(*gears[1])\n",
    "chk[\"sum_of_all_gear_ratios\"] = sum(mul(*gear) for gear in gears)"
   ]
  },
  {
   "cell_type": "markdown",
   "metadata": {},
   "source": [
    "> <p>In this schematic, there are <em>two</em> gears. The first is in the top left; it has part numbers <code>467</code> and <code>35</code>, so its gear ratio is <code>16345</code>. The second gear is in the lower right; its gear ratio is <code>451490</code>.\n"
   ]
  },
  {
   "cell_type": "markdown",
   "metadata": {},
   "source": [
    "> (The <code>\\*</code> adjacent to <code>617</code> is <em>not</em> a gear because it is only adjacent to one part number.) Adding up all of the gear ratios produces <code><em>467835</em></code>.</p>\n",
    ">\n",
    "> <p><em>What is the sum of all of the gear ratios in your engine schematic?</em></p>\n",
    "> </article>\n"
   ]
  }
 ],
 "metadata": {
  "kernelspec": {
   "display_name": ".venv",
   "language": "python",
   "name": "python3"
  },
  "language_info": {
   "codemirror_mode": {
    "name": "ipython",
    "version": 3
   },
   "file_extension": ".py",
   "mimetype": "text/x-python",
   "name": "python",
   "nbconvert_exporter": "python",
   "pygments_lexer": "ipython3"
  }
 },
 "nbformat": 4,
 "nbformat_minor": 2
}
