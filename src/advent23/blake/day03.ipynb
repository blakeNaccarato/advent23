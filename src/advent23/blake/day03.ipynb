{
 "cells": [
  {
   "cell_type": "markdown",
   "metadata": {},
   "source": [
    "# Day 3: Gear Ratios\n",
    "\n",
    "## Part 1\n",
    "\n",
    "> <p>You and the Elf eventually reach a <a href=\"https://en.wikipedia.org/wiki/Gondola_lift\" target=\"_blank\">gondola lift</a> station; he says the gondola lift will take you up to the <em>water source</em>, but this is as far as he can bring you. You go inside.</p>\n",
    "> <p>It doesn't take long to find the gondolas, but there seems to be a problem: they're not moving.</p>\n",
    "> <p>\"Aaah!\"</p>\n",
    "> <p>You turn around to see a slightly-greasy Elf with a wrench and a look of surprise. \"Sorry, I wasn't expecting anyone! The gondola lift isn't working right now; it'll still be a while before I can fix it.\" You offer to help.</p>\n",
    "> <p>The engineer explains that an engine part seems to be missing from the engine, but nobody can figure out which one. If you can <em>add up all the part numbers</em> in the engine schematic, it should be easy to work out which part is missing.</p>\n",
    "> <p>The engine schematic (your puzzle input) consists of a visual representation of the engine. There are lots of numbers and symbols you don't really understand, but apparently <em>any number adjacent to a symbol</em>, even diagonally, is a \"part number\" and should be included in your sum. (Periods (<code>.</code>) do not count as a symbol.)</p>\n",
    "> <p>Here is an example engine schematic:</p>\n",
    "> <pre><code>467..114..\n",
    "> ...*......\n",
    "> ..35..633.\n",
    "> ......#...\n",
    "> 617*......\n",
    "> .....+.58.\n",
    "> ..592.....\n",
    "> ......755.\n",
    "> ...$.*....\n",
    "> .664.598..\n",
    "> </code></pre>\n"
   ]
  },
  {
   "cell_type": "code",
   "execution_count": null,
   "metadata": {},
   "outputs": [
    {
     "data": {
      "text/markdown": [
       "#### Part 1"
      ],
      "text/plain": [
       "<IPython.core.display.Markdown object>"
      ]
     },
     "metadata": {},
     "output_type": "display_data"
    },
    {
     "name": "stdout",
     "output_type": "stream",
     "text": [
      "467..114..\n",
      "...*......\n",
      "..35..633.\n",
      "......#...\n",
      "617*......\n",
      ".....+.58.\n",
      "..592.....\n",
      "......755.\n",
      "...$.*....\n",
      ".664.598..\n",
      "\n"
     ]
    },
    {
     "data": {
      "text/markdown": [
       "#### Part 2"
      ],
      "text/plain": [
       "<IPython.core.display.Markdown object>"
      ]
     },
     "metadata": {},
     "output_type": "display_data"
    },
    {
     "name": "stdout",
     "output_type": "stream",
     "text": [
      "<INPUT UNKNOWN>\n"
     ]
    }
   ],
   "source": [
    "from advent23 import Checker, get_chk, get_inp\n",
    "from advent23.blake import Stringer, remap\n",
    "\n",
    "chk = get_chk()\n",
    "inp = get_inp(3)\n",
    "\n",
    "NULL = \".\"\n",
    "\"\"\"Character representing \"not a symbol\" in the input.\"\"\"\n",
    "\n",
    "SYMBOLS = \"#$%&*+-/=@\"\n",
    "\"\"\"Possible symbols in the input.\n",
    "\n",
    "Found by taking the intersection of symbols in `string.punctuation` and\n",
    "`input/blake.txt`, excluding `.` (period).\"\"\"\n",
    "\n",
    "RE_SYMBOLS = r\"#\\$%&\\*\\+\\-\\/=@\"\n",
    "\"\"\"Same as `SYMBOLS`, but with special regex characters escaped.\n",
    "\n",
    "If you pursue a regex solution, forgetting to escape these characters will introduce\n",
    "subtle bugs.\n",
    "\"\"\"\n",
    "\n",
    "check = Checker(chk)\n",
    "checks = {}"
   ]
  },
  {
   "cell_type": "code",
   "execution_count": null,
   "metadata": {},
   "outputs": [
    {
     "data": {
      "text/markdown": [
       "#### Part 1"
      ],
      "text/plain": [
       "<IPython.core.display.Markdown object>"
      ]
     },
     "metadata": {},
     "output_type": "display_data"
    },
    {
     "name": "stdout",
     "output_type": "stream",
     "text": [
      "467..114.....*........35..633.......#...617*...........+.58...592... <...view truncated>\n",
      "\n"
     ]
    }
   ],
   "source": [
    "width = inp[\"a\"].find(\"\\n\")\n",
    "inp[\"a\"] = inp[\"a\"].replace(\"\\n\", \"\")"
   ]
  },
  {
   "cell_type": "code",
   "execution_count": null,
   "metadata": {},
   "outputs": [
    {
     "data": {
      "text/markdown": [
       "#### Symbol positions"
      ],
      "text/plain": [
       "<IPython.core.display.Markdown object>"
      ]
     },
     "metadata": {},
     "output_type": "display_data"
    },
    {
     "data": {
      "text/plain": [
       "[[1, 3], [3, 6], [4, 3], [5, 5], [8, 3], [8, 5]]"
      ]
     },
     "metadata": {},
     "output_type": "display_data"
    }
   ],
   "source": [
    "stringer = Stringer(r=r\"[$symbols]\", symbols=RE_SYMBOLS.replace(\"$\", \"$$\"))\n",
    "symbol_positions = []\n",
    "for sym in remap(stringer).finditer(inp[\"a\"]):\n",
    "    i = sym.span()[0]\n",
    "    symbol_positions.append(divmod(i, width))\n",
    "chk[\"symbol_positions\"] = [list(pos) for pos in symbol_positions]"
   ]
  },
  {
   "cell_type": "code",
   "execution_count": null,
   "metadata": {},
   "outputs": [],
   "source": [
    "chk[\"not_parts\"] = [114, 58]\n",
    "chk[\"a\"] = 4361"
   ]
  },
  {
   "cell_type": "markdown",
   "metadata": {},
   "source": [
    "> <p>In this schematic, two numbers are <em>not</em> part numbers because they are not adjacent to a symbol: <code>114</code> (top right) and <code>58</code> (middle right). Every other number is adjacent to a symbol and so <em>is</em> a part number; their sum is <code><em>4361</em></code>.</p>\n",
    "> <p>Of course, the actual engine schematic is much larger. <em>What is the sum of all of the part numbers in the engine schematic?</em></p>\n",
    "> </article>\n"
   ]
  }
 ],
 "metadata": {
  "kernelspec": {
   "display_name": ".venv",
   "language": "python",
   "name": "python3"
  },
  "language_info": {
   "codemirror_mode": {
    "name": "ipython",
    "version": 3
   },
   "file_extension": ".py",
   "mimetype": "text/x-python",
   "name": "python",
   "nbconvert_exporter": "python",
   "pygments_lexer": "ipython3"
  }
 },
 "nbformat": 4,
 "nbformat_minor": 2
}
