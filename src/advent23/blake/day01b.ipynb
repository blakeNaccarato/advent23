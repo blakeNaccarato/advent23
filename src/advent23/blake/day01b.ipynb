{
 "cells": [
  {
   "cell_type": "code",
   "execution_count": null,
   "metadata": {
    "tags": [
     "parameters"
    ]
   },
   "outputs": [],
   "source": [
    "from re import MULTILINE, VERBOSE, compile\n",
    "\n",
    "from advent23 import disp_name\n",
    "\n",
    "INPUT = \"\"\"\\\n",
    "two1nine\n",
    "eightwothree\n",
    "abcone2threexyz\n",
    "xtwone3four\n",
    "4nineeightseven2\n",
    "zoneight234\n",
    "7pqrstsixteen\n",
    "\"\"\""
   ]
  },
  {
   "cell_type": "code",
   "execution_count": null,
   "metadata": {},
   "outputs": [
    {
     "data": {
      "text/markdown": [
       "#### All matches:"
      ],
      "text/plain": [
       "<IPython.core.display.Markdown object>"
      ]
     },
     "metadata": {},
     "output_type": "display_data"
    },
    {
     "data": {
      "text/plain": [
       "[('1', '2'), ('3', '8'), ('1', '5'), ('7', '')]"
      ]
     },
     "metadata": {},
     "output_type": "display_data"
    }
   ],
   "source": [
    "pattern = compile(\n",
    "    # Verbose: ignore implicit whitespace and allow comments in the pattern below\n",
    "    # Multiline: ^ and $ match the start of a line rather than the end of the string\n",
    "    flags=VERBOSE | MULTILINE,\n",
    "    pattern=(\n",
    "        r\"\"\"\n",
    "        ^               # Start of line\n",
    "        [^\\d]*          # Zero or more non-digits\n",
    "        (?P<first>\\d)   # first digit\n",
    "        .*?             # Zero or more characters, lazily\n",
    "        (?P<last>\\d)?   # last digit, optional\n",
    "        [^\\d]*          # Match zero or more non-digits\n",
    "        $               # Match end of line\n",
    "        \"\"\"\n",
    "    ),\n",
    ")\n",
    "\n",
    "matches = pattern.findall(INPUT)\n",
    "disp_name(\"All matches:\", matches)"
   ]
  },
  {
   "cell_type": "code",
   "execution_count": null,
   "metadata": {},
   "outputs": [
    {
     "data": {
      "text/markdown": [
       "#### Calibration values:"
      ],
      "text/plain": [
       "<IPython.core.display.Markdown object>"
      ]
     },
     "metadata": {},
     "output_type": "display_data"
    },
    {
     "data": {
      "text/plain": [
       "[12, 38, 15, 77]"
      ]
     },
     "metadata": {},
     "output_type": "display_data"
    }
   ],
   "source": [
    "calibration_values = []\n",
    "for match in [m for m in matches if m]:\n",
    "    first, last = match\n",
    "    last = last if last else first\n",
    "    calibration_values.append(int(f\"{first}{last}\"))\n",
    "\n",
    "disp_name(\"Calibration values:\", calibration_values)"
   ]
  },
  {
   "cell_type": "code",
   "execution_count": null,
   "metadata": {},
   "outputs": [
    {
     "data": {
      "text/markdown": [
       "#### Sum:"
      ],
      "text/plain": [
       "<IPython.core.display.Markdown object>"
      ]
     },
     "metadata": {},
     "output_type": "display_data"
    },
    {
     "data": {
      "text/plain": [
       "142"
      ]
     },
     "metadata": {},
     "output_type": "display_data"
    }
   ],
   "source": [
    "OUTPUT = sum(calibration_values)\n",
    "disp_name(\"Sum:\", OUTPUT)"
   ]
  }
 ],
 "metadata": {
  "kernelspec": {
   "display_name": ".venv",
   "language": "python",
   "name": "python3"
  },
  "language_info": {
   "codemirror_mode": {
    "name": "ipython",
    "version": 3
   },
   "file_extension": ".py",
   "mimetype": "text/x-python",
   "name": "python",
   "nbconvert_exporter": "python",
   "pygments_lexer": "ipython3"
  }
 },
 "nbformat": 4,
 "nbformat_minor": 2
}
