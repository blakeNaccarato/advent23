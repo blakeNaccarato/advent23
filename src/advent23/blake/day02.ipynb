{
 "cells": [
  {
   "cell_type": "markdown",
   "metadata": {},
   "source": [
    "# Day 2: Cube Conundrum\n",
    "\n",
    "## Part 1\n",
    "\n",
    "> <p>You're launched high into the atmosphere! The apex of your trajectory just barely reaches the surface of a large island floating in the sky. You gently land in a fluffy pile of leaves. It's quite cold, but you don't see much snow. An Elf runs over to greet you.</p>\n",
    "> <p>The Elf explains that you've arrived at <em>Snow Island</em> and apologizes for the lack of snow. He'll be happy to explain the situation, but it's a bit of a walk, so you have some time. They don't get many visitors up here; <span title=\"No, the Elf's name is not 'WOPR'. It's Joshua.\">would you like to play a game</span> in the meantime?</p>\n",
    "> <p>As you walk, the Elf shows you a small bag and some cubes which are either red, green, or blue. Each time you play this game, he will hide a secret number of cubes of each color in the bag, and your goal is to figure out information about the number of cubes.</p>\n",
    "> <p>To get information, once a bag has been loaded with cubes, the Elf will reach into the bag, grab a handful of random cubes, show them to you, and then put them back in the bag. He'll do this a few times per game.</p>\n",
    "> <p>You play several games and record the information from each game (your puzzle input). Each game is listed with its ID number (like the <code>11</code> in <code>Game 11: ...</code>) followed by a semicolon-separated list of subsets of cubes that were revealed from the bag (like <code>3 red, 5 green, 4 blue</code>).</p>\n",
    "> <p>For example, the record of a few games might look like this:</p>\n",
    "> <pre><code>Game 1: 3 blue, 4 red; 1 red, 2 green, 6 blue; 2 green\n",
    "> Game 2: 1 blue, 2 green; 3 green, 4 blue, 1 red; 1 green, 1 blue\n",
    "> Game 3: 8 green, 6 blue, 20 red; 5 blue, 4 red, 13 green; 5 green, 1 red\n",
    "> Game 4: 1 green, 3 red, 6 blue; 3 green, 6 red; 3 green, 15 blue, 14 red\n",
    "> Game 5: 6 red, 1 blue, 3 green; 2 blue, 1 red, 2 green\n",
    "> </code></pre>\n",
    "> <p>In game 1, three sets of cubes are revealed from the bag (and then put back again). The first set is 3 blue cubes and 4 red cubes; the second set is 1 red cube, 2 green cubes, and 6 blue cubes; the third set is only 2 green cubes.</p>\n",
    "> <p>The Elf would first like to know which games would have been possible if the bag contained <em>only 12 red cubes, 13 green cubes, and 14 blue cubes</em>?\n"
   ]
  },
  {
   "cell_type": "code",
   "execution_count": null,
   "metadata": {
    "tags": [
     "parameters"
    ]
   },
   "outputs": [
    {
     "data": {
      "text/markdown": [
       "#### Part 1"
      ],
      "text/plain": [
       "<IPython.core.display.Markdown object>"
      ]
     },
     "metadata": {},
     "output_type": "display_data"
    },
    {
     "name": "stdout",
     "output_type": "stream",
     "text": [
      "Game 1: 3 blue, 4 red; 1 red, 2 green, 6 blue; 2 green\n",
      "Game 2: 1 blue, 2 green; 3 green, 4 blue, 1 red; 1 green, 1 blue\n",
      "Game 3: 8 green, 6 blue, 20 red; 5 blue, 4 red, 13 green; 5 green, 1 red\n",
      "Game 4: 1 green, 3 red, 6 blue; 3 green, 6 red; 3 green, 15 blue, 14 red\n",
      "Game 5: 6 red, 1 blue, 3 green; 2 blue, 1 red, 2 green\n",
      "\n"
     ]
    },
    {
     "data": {
      "text/markdown": [
       "#### Part 2"
      ],
      "text/plain": [
       "<IPython.core.display.Markdown object>"
      ]
     },
     "metadata": {},
     "output_type": "display_data"
    },
    {
     "name": "stdout",
     "output_type": "stream",
     "text": [
      "Game 1: 3 blue, 4 red; 1 red, 2 green, 6 blue; 2 green\n",
      "Game 2: 1 blue, 2 green; 3 green, 4 blue, 1 red; 1 green, 1 blue\n",
      "Game 3: 8 green, 6 blue, 20 red; 5 blue, 4 red, 13 green; 5 green, 1 red\n",
      "Game 4: 1 green, 3 red, 6 blue; 3 green, 6 red; 3 green, 15 blue, 14 red\n",
      "Game 5: 6 red, 1 blue, 3 green; 2 blue, 1 red, 2 green\n",
      "\n"
     ]
    }
   ],
   "source": [
    "from collections.abc import Iterable, Iterator\n",
    "from dataclasses import asdict, dataclass\n",
    "from functools import reduce\n",
    "from operator import mul\n",
    "from re import Pattern\n",
    "from typing import Self\n",
    "\n",
    "from advent23 import Checker, disp_name, get_chk, get_inp\n",
    "from advent23.blake import Stringer, remap\n",
    "\n",
    "BAG = \"Bag: 12 red, 13 green, 14 blue\"\n",
    "\n",
    "chk = get_chk()\n",
    "inp = get_inp(2)\n",
    "\n",
    "check = Checker(chk)\n",
    "checks = {}"
   ]
  },
  {
   "cell_type": "code",
   "execution_count": null,
   "metadata": {},
   "outputs": [],
   "source": [
    "@dataclass\n",
    "class CubeGroup:\n",
    "    red: int\n",
    "    green: int\n",
    "    blue: int\n",
    "\n",
    "    def __gt__(self, other: Self) -> bool:\n",
    "        for m, n in zip(asdict(self).values(), asdict(other).values(), strict=True):\n",
    "            if m > n:\n",
    "                return True\n",
    "        return False\n",
    "\n",
    "\n",
    "def g(N: str, P: str = r\".+\", **kwds) -> dict[str, Stringer]:  # noqa: N803\n",
    "    \"\"\"Named capturing group for unpacking into a Stringer.\n",
    "\n",
    "    Args:\n",
    "        N: Name of the capturing group.\n",
    "        P: Pattern to match.\n",
    "        kwds: Other keyword arguments for `Stringer`.\n",
    "    \"\"\"\n",
    "    return {N: Stringer(r=r\"(?P<$N>$P)\", N=N, P=P, **kwds)}\n",
    "\n",
    "\n",
    "def findall(pat: Pattern[str], string: str) -> list[str]:\n",
    "    \"\"\"Consistent `findall` since `re.findall` output depends on number of groups.\n",
    "\n",
    "    Args:\n",
    "        pat: Pattern to match.\n",
    "        string: String to match against.\n",
    "    \"\"\"\n",
    "    return [match.group() for match in pat.finditer(string)]\n",
    "\n",
    "\n",
    "NO_ASSIGN = []\n",
    "\n",
    "\n",
    "def run_checks(stringer: Stringer, assign: str | list[str] = NO_ASSIGN) -> Stringer:\n",
    "    \"\"\"Run checks and return the `Stringer` that passed them.\n",
    "\n",
    "    Args:\n",
    "        stringer: Stringer to substitute, compile, and check.\n",
    "        assign: Checks to assign if existing checks pass.\n",
    "    \"\"\"\n",
    "    pat = remap(stringer)\n",
    "    disp_name(\"pattern\", pat.pattern)\n",
    "    for name, check in checks.items():\n",
    "        if name not in chk:\n",
    "            continue\n",
    "        check(pat)\n",
    "    for check in assign if isinstance(assign, list) else [assign]:\n",
    "        chk[check] = checks[check](pat)\n",
    "    return stringer"
   ]
  },
  {
   "cell_type": "code",
   "execution_count": null,
   "metadata": {},
   "outputs": [
    {
     "data": {
      "text/markdown": [
       "#### Pattern"
      ],
      "text/plain": [
       "<IPython.core.display.Markdown object>"
      ]
     },
     "metadata": {},
     "output_type": "display_data"
    },
    {
     "name": "stdout",
     "output_type": "stream",
     "text": [
      "^(?P<game>.+)$\n"
     ]
    },
    {
     "data": {
      "text/markdown": [
       "#### All games"
      ],
      "text/plain": [
       "<IPython.core.display.Markdown object>"
      ]
     },
     "metadata": {},
     "output_type": "display_data"
    },
    {
     "data": {
      "text/plain": [
       "['Game 1: 3 blue, 4 red; 1 red, 2 green, 6 blue; 2 green',\n",
       " 'Game 2: 1 blue, 2 green; 3 green, 4 blue, 1 red; 1 green, 1 blue',\n",
       " 'Game 3: 8 green, 6 blue, 20 red; 5 blue, 4 red, 13 green; 5 green, 1 red',\n",
       " 'Game 4: 1 green, 3 red, 6 blue; 3 green, 6 red; 3 green, 15 blue, 14 red',\n",
       " 'Game 5: 6 red, 1 blue, 3 green; 2 blue, 1 red, 2 green']"
      ]
     },
     "metadata": {},
     "output_type": "display_data"
    },
    {
     "data": {
      "text/markdown": [
       "#### First game"
      ],
      "text/plain": [
       "<IPython.core.display.Markdown object>"
      ]
     },
     "metadata": {},
     "output_type": "display_data"
    },
    {
     "name": "stdout",
     "output_type": "stream",
     "text": [
      "Game 1: 3 blue, 4 red; 1 red, 2 green, 6 blue; 2 green\n"
     ]
    }
   ],
   "source": [
    "checks[\"all_games\"] = lambda p: findall(p, inp[\"a\"])\n",
    "checks[\"first_game\"] = lambda p: m.group() if (m := p.match(inp[\"a\"])) else None\n",
    "stringer = run_checks(\n",
    "    Stringer(r=r\"^$game$$\", **g(\"game\")), assign=[\"all_games\", \"first_game\"]\n",
    ")"
   ]
  },
  {
   "cell_type": "code",
   "execution_count": null,
   "metadata": {},
   "outputs": [
    {
     "data": {
      "text/markdown": [
       "#### Pattern"
      ],
      "text/plain": [
       "<IPython.core.display.Markdown object>"
      ]
     },
     "metadata": {},
     "output_type": "display_data"
    },
    {
     "name": "stdout",
     "output_type": "stream",
     "text": [
      "^Game\\s\\d+:\\s(?P<sets>.+)$\n"
     ]
    },
    {
     "data": {
      "text/markdown": [
       "#### Game 1 sets"
      ],
      "text/plain": [
       "<IPython.core.display.Markdown object>"
      ]
     },
     "metadata": {},
     "output_type": "display_data"
    },
    {
     "name": "stdout",
     "output_type": "stream",
     "text": [
      "3 blue, 4 red; 1 red, 2 green, 6 blue; 2 green\n"
     ]
    }
   ],
   "source": [
    "checks[\"game_1_sets\"] = lambda p: m[\"sets\"] if (m := p.match(inp[\"a\"])) else None\n",
    "stringer = run_checks(\n",
    "    stringer | dict(game=r\"$game_count$sets\", game_count=r\"Game\\s\\d+:\\s\", **g(\"sets\")),\n",
    "    assign=\"game_1_sets\",\n",
    ")"
   ]
  },
  {
   "cell_type": "code",
   "execution_count": null,
   "metadata": {},
   "outputs": [
    {
     "data": {
      "text/markdown": [
       "#### Pattern"
      ],
      "text/plain": [
       "<IPython.core.display.Markdown object>"
      ]
     },
     "metadata": {},
     "output_type": "display_data"
    },
    {
     "name": "stdout",
     "output_type": "stream",
     "text": [
      "^Game\\s(?P<game_num>\\d+):\\s(?P<sets>.+)$\n"
     ]
    },
    {
     "data": {
      "text/markdown": [
       "#### Game 1 num"
      ],
      "text/plain": [
       "<IPython.core.display.Markdown object>"
      ]
     },
     "metadata": {},
     "output_type": "display_data"
    },
    {
     "name": "stdout",
     "output_type": "stream",
     "text": [
      "1\n"
     ]
    }
   ],
   "source": [
    "checks[\"game_1_num\"] = lambda p: m[\"game_num\"] if (m := p.match(inp[\"a\"])) else None\n",
    "stringer = run_checks(\n",
    "    stringer | dict(game_count=r\"Game\\s$game_num:\\s\", **g(\"game_num\", r\"\\d+\")),\n",
    "    assign=\"game_1_num\",\n",
    ")"
   ]
  },
  {
   "cell_type": "code",
   "execution_count": null,
   "metadata": {},
   "outputs": [
    {
     "data": {
      "text/markdown": [
       "#### Games"
      ],
      "text/plain": [
       "<IPython.core.display.Markdown object>"
      ]
     },
     "metadata": {},
     "output_type": "display_data"
    },
    {
     "data": {
      "text/plain": [
       "{1: [['3 blue', '4 red'], ['1 red', '2 green', '6 blue'], ['2 green']],\n",
       " 2: [['1 blue', '2 green'],\n",
       "  ['3 green', '4 blue', '1 red'],\n",
       "  ['1 green', '1 blue']],\n",
       " 3: [['8 green', '6 blue', '20 red'],\n",
       "  ['5 blue', '4 red', '13 green'],\n",
       "  ['5 green', '1 red']],\n",
       " 4: [['1 green', '3 red', '6 blue'],\n",
       "  ['3 green', '6 red'],\n",
       "  ['3 green', '15 blue', '14 red']],\n",
       " 5: [['6 red', '1 blue', '3 green'], ['2 blue', '1 red', '2 green']]}"
      ]
     },
     "metadata": {},
     "output_type": "display_data"
    }
   ],
   "source": [
    "games = {\n",
    "    int(match[\"game_num\"]): [set_.split(\", \") for set_ in match[\"sets\"].split(\"; \")]\n",
    "    for match in remap(stringer).finditer(inp[\"a\"])\n",
    "}\n",
    "chk[\"games\"] = games"
   ]
  },
  {
   "cell_type": "code",
   "execution_count": null,
   "metadata": {},
   "outputs": [
    {
     "data": {
      "text/markdown": [
       "#### Bag"
      ],
      "text/plain": [
       "<IPython.core.display.Markdown object>"
      ]
     },
     "metadata": {},
     "output_type": "display_data"
    },
    {
     "data": {
      "text/plain": [
       "CubeGroup(red=12, green=13, blue=14)"
      ]
     },
     "metadata": {},
     "output_type": "display_data"
    }
   ],
   "source": [
    "get_color = remap(\n",
    "    r=r\"^$num\\s$color.*$$\", **g(\"num\", r\"\\d+\"), **g(\"color\", r\"[r|g|b]\")\n",
    ").fullmatch\n",
    "\n",
    "COLORS = {\"r\": \"red\", \"g\": \"green\", \"b\": \"blue\"}\n",
    "\n",
    "\n",
    "def walk_pulls(pulls: Iterable[str]) -> Iterator[CubeGroup]:\n",
    "    counts = {color: 0 for color in COLORS.values()}\n",
    "    for match in [get_color(p) for p in pulls]:\n",
    "        if not match:\n",
    "            continue\n",
    "        counts[COLORS[match[\"color\"]]] += int(match[\"num\"])\n",
    "    yield CubeGroup(**counts)\n",
    "\n",
    "\n",
    "bag = next(iter(walk_pulls(BAG.removeprefix(\"Bag: \").split(\", \"))))\n",
    "chk[\"bag\"] = bag"
   ]
  },
  {
   "cell_type": "code",
   "execution_count": null,
   "metadata": {},
   "outputs": [
    {
     "data": {
      "text/markdown": [
       "#### Possible"
      ],
      "text/plain": [
       "<IPython.core.display.Markdown object>"
      ]
     },
     "metadata": {},
     "output_type": "display_data"
    },
    {
     "data": {
      "text/plain": [
       "[1, 2, 5]"
      ]
     },
     "metadata": {},
     "output_type": "display_data"
    }
   ],
   "source": [
    "def validate_games(games: dict[int, list[list[str]]]) -> Iterator[int]:\n",
    "    for game_num, game in games.items():\n",
    "        valid = True\n",
    "        for set_ in game:\n",
    "            for pull in walk_pulls(set_):\n",
    "                if pull > bag:\n",
    "                    valid = False\n",
    "                    break\n",
    "        if valid:\n",
    "            yield game_num\n",
    "\n",
    "\n",
    "possible = list(validate_games(games))\n",
    "chk[\"possible\"] = possible"
   ]
  },
  {
   "cell_type": "markdown",
   "metadata": {},
   "source": [
    "> <p>In the example above, games 1, 2, and 5 would have been <em>possible</em> if the bag had been loaded with that configuration. However, game 3 would have been <em>impossible</em> because at one point the Elf showed you 20 red cubes at once; similarly, game 4 would also have been <em>impossible</em> because the Elf showed you 15 blue cubes at once.\n"
   ]
  },
  {
   "cell_type": "code",
   "execution_count": null,
   "metadata": {},
   "outputs": [
    {
     "data": {
      "text/markdown": [
       "#### Part 1"
      ],
      "text/plain": [
       "<IPython.core.display.Markdown object>"
      ]
     },
     "metadata": {},
     "output_type": "display_data"
    },
    {
     "data": {
      "text/plain": [
       "8"
      ]
     },
     "metadata": {},
     "output_type": "display_data"
    }
   ],
   "source": [
    "chk[\"a\"] = sum(possible)"
   ]
  },
  {
   "cell_type": "markdown",
   "metadata": {},
   "source": [
    "> If you add up the IDs of the games that would have been possible, you get <code><em>8</em></code>.</p>\n",
    ">\n",
    "> <p>Determine which games would have been possible if the bag had been loaded with only 12 red cubes, 13 green cubes, and 14 blue cubes. <em>What is the sum of the IDs of those games?</em></p>\n",
    "> </article>\n",
    "\n",
    "## Part 2\n",
    "\n",
    "> <p>The Elf says they've stopped producing snow because they aren't getting any <em>water</em>! He isn't sure why the water stopped; however, he can show you how to get to the water source to check it out for yourself. It's just up ahead!</p>\n",
    "> <p>As you continue your walk, the Elf poses a second question: in each game you played, what is the <em>fewest number of cubes of each color</em> that could have been in the bag to make the game possible?</p>\n",
    "> <p>Again consider the example games from earlier.</p>\n"
   ]
  },
  {
   "cell_type": "code",
   "execution_count": null,
   "metadata": {},
   "outputs": [
    {
     "data": {
      "text/markdown": [
       "#### Game one fewest"
      ],
      "text/plain": [
       "<IPython.core.display.Markdown object>"
      ]
     },
     "metadata": {},
     "output_type": "display_data"
    },
    {
     "data": {
      "text/plain": [
       "[4, 2, 6]"
      ]
     },
     "metadata": {},
     "output_type": "display_data"
    }
   ],
   "source": [
    "@dataclass\n",
    "class CubeGroup:\n",
    "    red: int = 0\n",
    "    green: int = 0\n",
    "    blue: int = 0\n",
    "\n",
    "    @property\n",
    "    def power(self) -> int:\n",
    "        return reduce(mul, asdict(self).values())\n",
    "\n",
    "\n",
    "def get_mins(game: list[list[str]]) -> CubeGroup:\n",
    "    mins = asdict(CubeGroup())\n",
    "    for set_ in game:\n",
    "        for match in [get_color(p) for p in set_]:\n",
    "            if not match:\n",
    "                continue\n",
    "            c = COLORS[match[\"color\"]]\n",
    "            pull = int(match[\"num\"])\n",
    "            if pull > mins[c]:\n",
    "                mins[c] = pull\n",
    "    return CubeGroup(**mins)\n",
    "\n",
    "\n",
    "def walk_games(games: dict[int, list[list[str]]]) -> Iterator[CubeGroup]:\n",
    "    for game in games.values():\n",
    "        yield get_mins(game)\n",
    "\n",
    "\n",
    "walk = walk_games(games)\n",
    "\n",
    "\n",
    "def listify(walk: CubeGroup) -> list[int]:\n",
    "    return list(asdict(walk).values())\n",
    "\n",
    "\n",
    "chk[\"game_one_fewest\"] = listify(next(walk))"
   ]
  },
  {
   "cell_type": "markdown",
   "metadata": {},
   "source": [
    "> In game 1, the game could have been played with as few as 4 red, 2 green, and 6 blue cubes. If any color had even one fewer cube, the game would have been impossible.</li>\n",
    ">\n",
    "> <pre><code>Game 1: 3 blue, 4 red; 1 red, 2 green, 6 blue; 2 green</code></pre>\n"
   ]
  },
  {
   "cell_type": "code",
   "execution_count": null,
   "metadata": {},
   "outputs": [
    {
     "data": {
      "text/markdown": [
       "#### Game two fewest"
      ],
      "text/plain": [
       "<IPython.core.display.Markdown object>"
      ]
     },
     "metadata": {},
     "output_type": "display_data"
    },
    {
     "data": {
      "text/plain": [
       "[1, 3, 4]"
      ]
     },
     "metadata": {},
     "output_type": "display_data"
    }
   ],
   "source": [
    "chk[\"game_two_fewest\"] = listify(next(walk))"
   ]
  },
  {
   "cell_type": "markdown",
   "metadata": {},
   "source": [
    "> Game 2 could have been played with a minimum of 1 red, 3 green, and 4 blue cubes.</li>\n",
    ">\n",
    "> <pre><code>Game 2: 1 blue, 2 green; 3 green, 4 blue, 1 red; 1 green, 1 blue</code></pre>\n"
   ]
  },
  {
   "cell_type": "code",
   "execution_count": null,
   "metadata": {},
   "outputs": [
    {
     "data": {
      "text/markdown": [
       "#### Game three fewest"
      ],
      "text/plain": [
       "<IPython.core.display.Markdown object>"
      ]
     },
     "metadata": {},
     "output_type": "display_data"
    },
    {
     "data": {
      "text/plain": [
       "[20, 13, 6]"
      ]
     },
     "metadata": {},
     "output_type": "display_data"
    }
   ],
   "source": [
    "chk[\"game_three_fewest\"] = listify(next(walk))"
   ]
  },
  {
   "cell_type": "markdown",
   "metadata": {},
   "source": [
    "> Game 3 must have been played with at least 20 red, 13 green, and 6 blue cubes.</li>\n",
    ">\n",
    "> <pre><code>Game 3: 8 green, 6 blue, 20 red; 5 blue, 4 red, 13 green; 5 green, 1 red</code></pre>\n"
   ]
  },
  {
   "cell_type": "code",
   "execution_count": null,
   "metadata": {},
   "outputs": [
    {
     "data": {
      "text/markdown": [
       "#### Game four fewest"
      ],
      "text/plain": [
       "<IPython.core.display.Markdown object>"
      ]
     },
     "metadata": {},
     "output_type": "display_data"
    },
    {
     "data": {
      "text/plain": [
       "[14, 3, 15]"
      ]
     },
     "metadata": {},
     "output_type": "display_data"
    }
   ],
   "source": [
    "chk[\"game_four_fewest\"] = listify(next(walk))"
   ]
  },
  {
   "cell_type": "markdown",
   "metadata": {},
   "source": [
    "> Game 4 required at least 14 red, 3 green, and 15 blue cubes.</li>\n",
    ">\n",
    "> <pre><code>Game 4: 1 green, 3 red, 6 blue; 3 green, 6 red; 3 green, 15 blue, 14 red</code></pre>\n"
   ]
  },
  {
   "cell_type": "code",
   "execution_count": null,
   "metadata": {},
   "outputs": [
    {
     "data": {
      "text/markdown": [
       "#### Game five fewest"
      ],
      "text/plain": [
       "<IPython.core.display.Markdown object>"
      ]
     },
     "metadata": {},
     "output_type": "display_data"
    },
    {
     "data": {
      "text/plain": [
       "[6, 3, 2]"
      ]
     },
     "metadata": {},
     "output_type": "display_data"
    }
   ],
   "source": [
    "chk[\"game_five_fewest\"] = listify(next(walk))"
   ]
  },
  {
   "cell_type": "markdown",
   "metadata": {},
   "source": [
    "> Game 5 needed no fewer than 6 red, 3 green, and 2 blue cubes in the bag.</li>\n",
    ">\n",
    "> </ul>\n",
    "> <pre><code>Game 5: 6 red, 1 blue, 3 green; 2 blue, 1 red, 2 green</code></pre>\n",
    "> <p>The <em>power</em> of a set of cubes is equal to the numbers of red, green, and blue cubes multiplied together.\n"
   ]
  },
  {
   "cell_type": "code",
   "execution_count": null,
   "metadata": {},
   "outputs": [
    {
     "data": {
      "text/markdown": [
       "#### Minimum power"
      ],
      "text/plain": [
       "<IPython.core.display.Markdown object>"
      ]
     },
     "metadata": {},
     "output_type": "display_data"
    },
    {
     "data": {
      "text/plain": [
       "[48, 12, 1560, 630, 36]"
      ]
     },
     "metadata": {},
     "output_type": "display_data"
    },
    {
     "data": {
      "text/markdown": [
       "#### Part 2"
      ],
      "text/plain": [
       "<IPython.core.display.Markdown object>"
      ]
     },
     "metadata": {},
     "output_type": "display_data"
    },
    {
     "data": {
      "text/plain": [
       "2286"
      ]
     },
     "metadata": {},
     "output_type": "display_data"
    }
   ],
   "source": [
    "minimum_power = [game.power for game in walk_games(games)]\n",
    "chk[\"minimum_power\"] = minimum_power\n",
    "chk[\"b\"] = sum(minimum_power)"
   ]
  },
  {
   "cell_type": "markdown",
   "metadata": {},
   "source": [
    "> The power of the minimum set of cubes in game 1 is <code>48</code>. In games 2-5 it was <code>12</code>, <code>1560</code>, <code>630</code>, and <code>36</code>, respectively. Adding up these five powers produces the sum <code><em>2286</em></code>.</p>\n",
    ">\n",
    "> <p>For each game, find the minimum set of cubes that must have been present. <em>What is the sum of the power of these sets?</em></p>\n",
    "> </article>\n"
   ]
  }
 ],
 "metadata": {
  "kernelspec": {
   "display_name": ".venv",
   "language": "python",
   "name": "python3"
  },
  "language_info": {
   "codemirror_mode": {
    "name": "ipython",
    "version": 3
   },
   "file_extension": ".py",
   "mimetype": "text/x-python",
   "name": "python",
   "nbconvert_exporter": "python",
   "pygments_lexer": "ipython3"
  }
 },
 "nbformat": 4,
 "nbformat_minor": 2
}
